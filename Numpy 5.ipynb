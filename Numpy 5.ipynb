{
 "cells": [
  {
   "cell_type": "code",
   "execution_count": 1,
   "id": "contained-fitness",
   "metadata": {},
   "outputs": [],
   "source": [
    "import numpy as np"
   ]
  },
  {
   "cell_type": "markdown",
   "id": "broke-wyoming",
   "metadata": {},
   "source": [
    "# Working with Boolean Arrays"
   ]
  },
  {
   "cell_type": "code",
   "execution_count": 3,
   "id": "baking-teddy",
   "metadata": {},
   "outputs": [],
   "source": [
    "x=np.array([[5 ,0 ,3 ,3],\n",
    "[7, 9, 3 ,5],\n",
    "[2, 4, 7, 6]])"
   ]
  },
  {
   "cell_type": "code",
   "execution_count": 6,
   "id": "vietnamese-plain",
   "metadata": {},
   "outputs": [],
   "source": [
    "#counting non zero entries in a boolean array"
   ]
  },
  {
   "cell_type": "code",
   "execution_count": 7,
   "id": "logical-retail",
   "metadata": {},
   "outputs": [
    {
     "data": {
      "text/plain": [
       "array([[ True,  True,  True,  True],\n",
       "       [False, False,  True,  True],\n",
       "       [ True,  True, False, False]])"
      ]
     },
     "execution_count": 7,
     "metadata": {},
     "output_type": "execute_result"
    }
   ],
   "source": [
    "x<6 #boolean array"
   ]
  },
  {
   "cell_type": "code",
   "execution_count": 8,
   "id": "continuous-private",
   "metadata": {},
   "outputs": [
    {
     "data": {
      "text/plain": [
       "8"
      ]
     },
     "execution_count": 8,
     "metadata": {},
     "output_type": "execute_result"
    }
   ],
   "source": [
    "np.count_nonzero(x<6)"
   ]
  },
  {
   "cell_type": "code",
   "execution_count": 9,
   "id": "cellular-breath",
   "metadata": {},
   "outputs": [],
   "source": [
    "#another way of doing the same"
   ]
  },
  {
   "cell_type": "code",
   "execution_count": 10,
   "id": "alive-flavor",
   "metadata": {},
   "outputs": [
    {
     "data": {
      "text/plain": [
       "8"
      ]
     },
     "execution_count": 10,
     "metadata": {},
     "output_type": "execute_result"
    }
   ],
   "source": [
    "np.sum(x<6)"
   ]
  },
  {
   "cell_type": "code",
   "execution_count": 11,
   "id": "weekly-indiana",
   "metadata": {},
   "outputs": [],
   "source": [
    "#The benefit of sum() is that like with other NumPy aggregation functions, this summation can be done along rows or columns as well"
   ]
  },
  {
   "cell_type": "code",
   "execution_count": 13,
   "id": "otherwise-restoration",
   "metadata": {},
   "outputs": [
    {
     "data": {
      "text/plain": [
       "array([2, 2, 2, 2])"
      ]
     },
     "execution_count": 13,
     "metadata": {},
     "output_type": "execute_result"
    }
   ],
   "source": [
    "np.sum(x<6,axis=0)"
   ]
  },
  {
   "cell_type": "code",
   "execution_count": 14,
   "id": "minute-airport",
   "metadata": {},
   "outputs": [
    {
     "data": {
      "text/plain": [
       "array([4, 2, 2])"
      ]
     },
     "execution_count": 14,
     "metadata": {},
     "output_type": "execute_result"
    }
   ],
   "source": [
    "np.sum(x<6,axis=1)"
   ]
  },
  {
   "cell_type": "code",
   "execution_count": 15,
   "id": "humanitarian-benefit",
   "metadata": {},
   "outputs": [
    {
     "data": {
      "text/plain": [
       "True"
      ]
     },
     "execution_count": 15,
     "metadata": {},
     "output_type": "execute_result"
    }
   ],
   "source": [
    "#determine if any value is true or not\n",
    "np.any(x<6)"
   ]
  },
  {
   "cell_type": "code",
   "execution_count": 16,
   "id": "original-cornell",
   "metadata": {},
   "outputs": [
    {
     "data": {
      "text/plain": [
       "False"
      ]
     },
     "execution_count": 16,
     "metadata": {},
     "output_type": "execute_result"
    }
   ],
   "source": [
    "#determine if all values are true or not\n",
    "np.all(x<6)"
   ]
  },
  {
   "cell_type": "code",
   "execution_count": 17,
   "id": "sitting-cemetery",
   "metadata": {},
   "outputs": [
    {
     "data": {
      "text/plain": [
       "array([ True, False, False])"
      ]
     },
     "execution_count": 17,
     "metadata": {},
     "output_type": "execute_result"
    }
   ],
   "source": [
    "np.all(x<6,axis=1)"
   ]
  },
  {
   "cell_type": "markdown",
   "id": "first-grass",
   "metadata": {},
   "source": [
    "# Boolean operators"
   ]
  },
  {
   "cell_type": "code",
   "execution_count": 18,
   "id": "pleased-forward",
   "metadata": {},
   "outputs": [],
   "source": [
    "x=np.array([1,0,1,0])\n",
    "y=np.array([0,1,1,0])"
   ]
  },
  {
   "cell_type": "code",
   "execution_count": 19,
   "id": "destroyed-announcement",
   "metadata": {},
   "outputs": [
    {
     "data": {
      "text/plain": [
       "array([0, 0, 1, 0])"
      ]
     },
     "execution_count": 19,
     "metadata": {},
     "output_type": "execute_result"
    }
   ],
   "source": [
    "x&y"
   ]
  },
  {
   "cell_type": "code",
   "execution_count": 20,
   "id": "affecting-cleaner",
   "metadata": {},
   "outputs": [
    {
     "data": {
      "text/plain": [
       "array([1, 1, 1, 0])"
      ]
     },
     "execution_count": 20,
     "metadata": {},
     "output_type": "execute_result"
    }
   ],
   "source": [
    "x|y"
   ]
  },
  {
   "cell_type": "code",
   "execution_count": 22,
   "id": "described-albania",
   "metadata": {},
   "outputs": [],
   "source": [
    "x=np.array([True,False,True,True])"
   ]
  },
  {
   "cell_type": "code",
   "execution_count": 23,
   "id": "sapphire-cotton",
   "metadata": {},
   "outputs": [
    {
     "data": {
      "text/plain": [
       "array([False,  True, False, False])"
      ]
     },
     "execution_count": 23,
     "metadata": {},
     "output_type": "execute_result"
    }
   ],
   "source": [
    "~x"
   ]
  },
  {
   "cell_type": "code",
   "execution_count": 24,
   "id": "adverse-network",
   "metadata": {},
   "outputs": [],
   "source": [
    "#xor"
   ]
  },
  {
   "cell_type": "code",
   "execution_count": 25,
   "id": "express-arkansas",
   "metadata": {},
   "outputs": [
    {
     "data": {
      "text/plain": [
       "array([1, 1, 0, 1])"
      ]
     },
     "execution_count": 25,
     "metadata": {},
     "output_type": "execute_result"
    }
   ],
   "source": [
    "x^y"
   ]
  },
  {
   "cell_type": "markdown",
   "id": "stupid-benchmark",
   "metadata": {},
   "source": [
    "# Boolean Arrays as Masks"
   ]
  },
  {
   "cell_type": "code",
   "execution_count": 26,
   "id": "monthly-spirit",
   "metadata": {},
   "outputs": [],
   "source": [
    "#using boolean arrays as masks"
   ]
  },
  {
   "cell_type": "code",
   "execution_count": 27,
   "id": "downtown-drink",
   "metadata": {},
   "outputs": [],
   "source": [
    "x=np.random.randint(0,10,size=(3,4))"
   ]
  },
  {
   "cell_type": "code",
   "execution_count": 28,
   "id": "excellent-venture",
   "metadata": {},
   "outputs": [
    {
     "data": {
      "text/plain": [
       "array([[4, 0, 1, 4],\n",
       "       [4, 6, 8, 1],\n",
       "       [6, 9, 4, 7]])"
      ]
     },
     "execution_count": 28,
     "metadata": {},
     "output_type": "execute_result"
    }
   ],
   "source": [
    "x"
   ]
  },
  {
   "cell_type": "code",
   "execution_count": 29,
   "id": "opposed-klein",
   "metadata": {},
   "outputs": [
    {
     "data": {
      "text/plain": [
       "array([[ True,  True,  True,  True],\n",
       "       [ True, False, False,  True],\n",
       "       [False, False,  True, False]])"
      ]
     },
     "execution_count": 29,
     "metadata": {},
     "output_type": "execute_result"
    }
   ],
   "source": [
    "x<5"
   ]
  },
  {
   "cell_type": "code",
   "execution_count": 31,
   "id": "consolidated-botswana",
   "metadata": {},
   "outputs": [
    {
     "data": {
      "text/plain": [
       "array([4, 0, 1, 4, 4, 1, 4])"
      ]
     },
     "execution_count": 31,
     "metadata": {},
     "output_type": "execute_result"
    }
   ],
   "source": [
    "#to select these values from the array, we can simply index on this Boolean array;\n",
    "#this is known as a masking operation\n",
    "\n",
    "x[x<5]"
   ]
  },
  {
   "cell_type": "markdown",
   "id": "incorporated-brazil",
   "metadata": {},
   "source": [
    "# Fancy Indexing"
   ]
  },
  {
   "cell_type": "code",
   "execution_count": 32,
   "id": "imposed-dakota",
   "metadata": {},
   "outputs": [],
   "source": [
    "#Fancy indexing is like the simple indexing but we pass\n",
    "#arrays of indices in place of single scalars. This allows us to very quickly access and\n",
    "#modify complicated subsets of an array’s values."
   ]
  },
  {
   "cell_type": "code",
   "execution_count": 33,
   "id": "surrounded-gardening",
   "metadata": {},
   "outputs": [],
   "source": [
    "x=np.random.randint(100,size=10)"
   ]
  },
  {
   "cell_type": "code",
   "execution_count": 34,
   "id": "exact-pregnancy",
   "metadata": {},
   "outputs": [
    {
     "data": {
      "text/plain": [
       "array([30, 29, 22, 58, 22, 97, 74, 79, 57, 64])"
      ]
     },
     "execution_count": 34,
     "metadata": {},
     "output_type": "execute_result"
    }
   ],
   "source": [
    "x"
   ]
  },
  {
   "cell_type": "code",
   "execution_count": 35,
   "id": "dominican-abraham",
   "metadata": {},
   "outputs": [],
   "source": [
    "# we want to access the fourth,fifth and seventh element using fancy indexing"
   ]
  },
  {
   "cell_type": "code",
   "execution_count": 36,
   "id": "wanted-suspect",
   "metadata": {},
   "outputs": [],
   "source": [
    "ind=[3,4,6]"
   ]
  },
  {
   "cell_type": "code",
   "execution_count": 37,
   "id": "czech-disease",
   "metadata": {},
   "outputs": [
    {
     "data": {
      "text/plain": [
       "array([58, 22, 74])"
      ]
     },
     "execution_count": 37,
     "metadata": {},
     "output_type": "execute_result"
    }
   ],
   "source": [
    "x[ind]"
   ]
  },
  {
   "cell_type": "code",
   "execution_count": 38,
   "id": "plain-burton",
   "metadata": {},
   "outputs": [],
   "source": [
    "#With fancy indexing, the shape of the result reflects the shape of the index arrays\n",
    "#rather than the shape of the array being indexed"
   ]
  },
  {
   "cell_type": "code",
   "execution_count": 40,
   "id": "generous-machinery",
   "metadata": {},
   "outputs": [],
   "source": [
    "ind=np.array([[3,4],[6,7]])"
   ]
  },
  {
   "cell_type": "code",
   "execution_count": 41,
   "id": "annual-progress",
   "metadata": {},
   "outputs": [
    {
     "data": {
      "text/plain": [
       "array([[3, 4],\n",
       "       [6, 7]])"
      ]
     },
     "execution_count": 41,
     "metadata": {},
     "output_type": "execute_result"
    }
   ],
   "source": [
    "ind"
   ]
  },
  {
   "cell_type": "code",
   "execution_count": 42,
   "id": "unnecessary-hardware",
   "metadata": {},
   "outputs": [
    {
     "data": {
      "text/plain": [
       "array([[58, 22],\n",
       "       [74, 79]])"
      ]
     },
     "execution_count": 42,
     "metadata": {},
     "output_type": "execute_result"
    }
   ],
   "source": [
    "x[ind]"
   ]
  },
  {
   "cell_type": "code",
   "execution_count": 43,
   "id": "worthy-record",
   "metadata": {},
   "outputs": [],
   "source": [
    "#Fancy indexing also works in multiple dimensions."
   ]
  },
  {
   "cell_type": "code",
   "execution_count": 44,
   "id": "continental-configuration",
   "metadata": {},
   "outputs": [],
   "source": [
    "X = np.arange(12).reshape((3, 4))"
   ]
  },
  {
   "cell_type": "code",
   "execution_count": 45,
   "id": "american-plenty",
   "metadata": {},
   "outputs": [
    {
     "data": {
      "text/plain": [
       "array([[ 0,  1,  2,  3],\n",
       "       [ 4,  5,  6,  7],\n",
       "       [ 8,  9, 10, 11]])"
      ]
     },
     "execution_count": 45,
     "metadata": {},
     "output_type": "execute_result"
    }
   ],
   "source": [
    "X"
   ]
  },
  {
   "cell_type": "code",
   "execution_count": 46,
   "id": "skilled-illinois",
   "metadata": {},
   "outputs": [],
   "source": [
    "row=np.array([0,1,2])\n",
    "col=np.array([2,1,3])  "
   ]
  },
  {
   "cell_type": "code",
   "execution_count": 49,
   "id": "complicated-found",
   "metadata": {},
   "outputs": [
    {
     "data": {
      "text/plain": [
       "array([ 2,  5, 11])"
      ]
     },
     "execution_count": 49,
     "metadata": {},
     "output_type": "execute_result"
    }
   ],
   "source": [
    "X[row,col]  #[(0,2),(1,1),(2,3)]"
   ]
  },
  {
   "cell_type": "code",
   "execution_count": 50,
   "id": "geological-circle",
   "metadata": {},
   "outputs": [],
   "source": [
    "#The pairing of indices in fancy indexing follows all the broadcasting rules"
   ]
  },
  {
   "cell_type": "code",
   "execution_count": 52,
   "id": "extraordinary-benjamin",
   "metadata": {},
   "outputs": [
    {
     "data": {
      "text/plain": [
       "array([[ 2,  1,  3],\n",
       "       [ 6,  5,  7],\n",
       "       [10,  9, 11]])"
      ]
     },
     "execution_count": 52,
     "metadata": {},
     "output_type": "execute_result"
    }
   ],
   "source": [
    "X[row[:,np.newaxis],col]  "
   ]
  },
  {
   "cell_type": "markdown",
   "id": "backed-thesis",
   "metadata": {},
   "source": [
    "# Combined Indexing"
   ]
  },
  {
   "cell_type": "code",
   "execution_count": 53,
   "id": "alpine-legislature",
   "metadata": {},
   "outputs": [],
   "source": [
    "#For even more powerful operations, fancy indexing can be combined with the other\n",
    "#indexing schemes"
   ]
  },
  {
   "cell_type": "code",
   "execution_count": 54,
   "id": "animal-payment",
   "metadata": {},
   "outputs": [
    {
     "data": {
      "text/plain": [
       "array([[ 0,  1,  2,  3],\n",
       "       [ 4,  5,  6,  7],\n",
       "       [ 8,  9, 10, 11]])"
      ]
     },
     "execution_count": 54,
     "metadata": {},
     "output_type": "execute_result"
    }
   ],
   "source": [
    "X"
   ]
  },
  {
   "cell_type": "code",
   "execution_count": 56,
   "id": "negative-female",
   "metadata": {},
   "outputs": [
    {
     "data": {
      "text/plain": [
       "array([5, 7, 4])"
      ]
     },
     "execution_count": 56,
     "metadata": {},
     "output_type": "execute_result"
    }
   ],
   "source": [
    "#We can combine fancy and simple indices:\n",
    "X[1,[1,3,0]]"
   ]
  },
  {
   "cell_type": "code",
   "execution_count": 57,
   "id": "breathing-pixel",
   "metadata": {},
   "outputs": [],
   "source": [
    "#We can also combine fancy indexing with slicing:"
   ]
  },
  {
   "cell_type": "code",
   "execution_count": 59,
   "id": "elementary-writing",
   "metadata": {},
   "outputs": [
    {
     "data": {
      "text/plain": [
       "array([[ 5,  7,  6],\n",
       "       [ 9, 11, 10]])"
      ]
     },
     "execution_count": 59,
     "metadata": {},
     "output_type": "execute_result"
    }
   ],
   "source": [
    "X[1:,[1,3,2]]"
   ]
  },
  {
   "cell_type": "code",
   "execution_count": 60,
   "id": "accepting-mozambique",
   "metadata": {},
   "outputs": [],
   "source": [
    "#we can combine fancy indexing with masking"
   ]
  },
  {
   "cell_type": "code",
   "execution_count": 61,
   "id": "matched-montreal",
   "metadata": {},
   "outputs": [],
   "source": [
    "mask=np.array([1,0,1,0],dtype=bool)"
   ]
  },
  {
   "cell_type": "code",
   "execution_count": 62,
   "id": "registered-breach",
   "metadata": {},
   "outputs": [
    {
     "data": {
      "text/plain": [
       "array([ True, False,  True, False])"
      ]
     },
     "execution_count": 62,
     "metadata": {},
     "output_type": "execute_result"
    }
   ],
   "source": [
    "mask"
   ]
  },
  {
   "cell_type": "code",
   "execution_count": 63,
   "id": "breathing-glasgow",
   "metadata": {},
   "outputs": [
    {
     "data": {
      "text/plain": [
       "array([0, 1, 2])"
      ]
     },
     "execution_count": 63,
     "metadata": {},
     "output_type": "execute_result"
    }
   ],
   "source": [
    "row"
   ]
  },
  {
   "cell_type": "code",
   "execution_count": 64,
   "id": "working-productivity",
   "metadata": {},
   "outputs": [
    {
     "data": {
      "text/plain": [
       "array([[ 0,  2],\n",
       "       [ 4,  6],\n",
       "       [ 8, 10]])"
      ]
     },
     "execution_count": 64,
     "metadata": {},
     "output_type": "execute_result"
    }
   ],
   "source": [
    "X[row[:,np.newaxis],mask]"
   ]
  },
  {
   "cell_type": "markdown",
   "id": "interested-dayton",
   "metadata": {},
   "source": [
    "# Sorting Arrays"
   ]
  },
  {
   "cell_type": "code",
   "execution_count": 65,
   "id": "grand-sleep",
   "metadata": {},
   "outputs": [],
   "source": [
    "x = np.array([2, 1, 4, 3, 5])"
   ]
  },
  {
   "cell_type": "code",
   "execution_count": 66,
   "id": "adverse-track",
   "metadata": {},
   "outputs": [
    {
     "data": {
      "text/plain": [
       "array([1, 2, 3, 4, 5])"
      ]
     },
     "execution_count": 66,
     "metadata": {},
     "output_type": "execute_result"
    }
   ],
   "source": [
    "np.sort(x)"
   ]
  },
  {
   "cell_type": "code",
   "execution_count": 67,
   "id": "configured-canvas",
   "metadata": {},
   "outputs": [
    {
     "data": {
      "text/plain": [
       "array([2, 1, 4, 3, 5])"
      ]
     },
     "execution_count": 67,
     "metadata": {},
     "output_type": "execute_result"
    }
   ],
   "source": [
    "x"
   ]
  },
  {
   "cell_type": "code",
   "execution_count": 68,
   "id": "signal-denver",
   "metadata": {},
   "outputs": [],
   "source": [
    "x.sort()"
   ]
  },
  {
   "cell_type": "code",
   "execution_count": 69,
   "id": "tutorial-grain",
   "metadata": {},
   "outputs": [
    {
     "data": {
      "text/plain": [
       "array([1, 2, 3, 4, 5])"
      ]
     },
     "execution_count": 69,
     "metadata": {},
     "output_type": "execute_result"
    }
   ],
   "source": [
    "x"
   ]
  },
  {
   "cell_type": "code",
   "execution_count": 70,
   "id": "illegal-vienna",
   "metadata": {},
   "outputs": [],
   "source": [
    "#A related function is argsort , which instead returns the indices of the sorted elements"
   ]
  },
  {
   "cell_type": "code",
   "execution_count": 71,
   "id": "native-rental",
   "metadata": {},
   "outputs": [
    {
     "data": {
      "text/plain": [
       "array([0, 1, 2, 3, 4])"
      ]
     },
     "execution_count": 71,
     "metadata": {},
     "output_type": "execute_result"
    }
   ],
   "source": [
    "np.argsort(x)"
   ]
  },
  {
   "cell_type": "code",
   "execution_count": 72,
   "id": "general-defense",
   "metadata": {},
   "outputs": [
    {
     "data": {
      "text/plain": [
       "array([1, 2, 3, 4, 5])"
      ]
     },
     "execution_count": 72,
     "metadata": {},
     "output_type": "execute_result"
    }
   ],
   "source": [
    "x[np.argsort(x)]"
   ]
  },
  {
   "cell_type": "markdown",
   "id": "mobile-adobe",
   "metadata": {},
   "source": [
    "# Sorting along rows or columns"
   ]
  },
  {
   "cell_type": "code",
   "execution_count": 73,
   "id": "secure-stanford",
   "metadata": {},
   "outputs": [],
   "source": [
    "x=np.random.randint(0,10,size=(4,6))"
   ]
  },
  {
   "cell_type": "code",
   "execution_count": 74,
   "id": "regulation-comfort",
   "metadata": {},
   "outputs": [
    {
     "data": {
      "text/plain": [
       "array([[7, 4, 9, 3, 4, 0],\n",
       "       [9, 0, 3, 8, 2, 4],\n",
       "       [1, 8, 2, 7, 2, 9],\n",
       "       [3, 3, 5, 9, 0, 8]])"
      ]
     },
     "execution_count": 74,
     "metadata": {},
     "output_type": "execute_result"
    }
   ],
   "source": [
    "x"
   ]
  },
  {
   "cell_type": "code",
   "execution_count": 75,
   "id": "acceptable-gilbert",
   "metadata": {},
   "outputs": [
    {
     "data": {
      "text/plain": [
       "array([[1, 0, 2, 3, 0, 0],\n",
       "       [3, 3, 3, 7, 2, 4],\n",
       "       [7, 4, 5, 8, 2, 8],\n",
       "       [9, 8, 9, 9, 4, 9]])"
      ]
     },
     "execution_count": 75,
     "metadata": {},
     "output_type": "execute_result"
    }
   ],
   "source": [
    "np.sort(x,axis=0)"
   ]
  },
  {
   "cell_type": "code",
   "execution_count": 76,
   "id": "danish-tuesday",
   "metadata": {},
   "outputs": [
    {
     "data": {
      "text/plain": [
       "array([[0, 3, 4, 4, 7, 9],\n",
       "       [0, 2, 3, 4, 8, 9],\n",
       "       [1, 2, 2, 7, 8, 9],\n",
       "       [0, 3, 3, 5, 8, 9]])"
      ]
     },
     "execution_count": 76,
     "metadata": {},
     "output_type": "execute_result"
    }
   ],
   "source": [
    "np.sort(x,axis=1)"
   ]
  },
  {
   "cell_type": "markdown",
   "id": "therapeutic-floor",
   "metadata": {},
   "source": [
    "# Partial Sorts: Partitioning"
   ]
  },
  {
   "cell_type": "code",
   "execution_count": 79,
   "id": "environmental-recording",
   "metadata": {},
   "outputs": [],
   "source": [
    "#np.partition takes an array and a number K; the result is a new array with the small‐\n",
    "#est K values to the left of the partition, and the remaining values to the right, in arbi‐\n",
    "#trary order\n",
    "x = np.array([7, 2, 3, 1, 6, 5, 4])"
   ]
  },
  {
   "cell_type": "code",
   "execution_count": 80,
   "id": "indoor-large",
   "metadata": {},
   "outputs": [
    {
     "data": {
      "text/plain": [
       "array([2, 1, 3, 4, 6, 5, 7])"
      ]
     },
     "execution_count": 80,
     "metadata": {},
     "output_type": "execute_result"
    }
   ],
   "source": [
    "np.partition(x,3)"
   ]
  },
  {
   "cell_type": "code",
   "execution_count": 81,
   "id": "earlier-honolulu",
   "metadata": {},
   "outputs": [],
   "source": [
    "#we can partition along an arbitrary axis of a multidimensional array"
   ]
  },
  {
   "cell_type": "code",
   "execution_count": 85,
   "id": "instructional-builder",
   "metadata": {},
   "outputs": [
    {
     "data": {
      "text/plain": [
       "array([[23, 66, 52, 66, 76, 77],\n",
       "       [63, 71, 79, 38, 10, 78],\n",
       "       [19, 29, 48, 18, 53, 85],\n",
       "       [77, 36, 63, 10, 38, 65]])"
      ]
     },
     "execution_count": 85,
     "metadata": {},
     "output_type": "execute_result"
    }
   ],
   "source": [
    "X=np.random.randint(100,size=(4,6))\n",
    "X"
   ]
  },
  {
   "cell_type": "code",
   "execution_count": 86,
   "id": "damaged-reggae",
   "metadata": {},
   "outputs": [
    {
     "data": {
      "text/plain": [
       "array([[19, 29, 48, 10, 10, 65],\n",
       "       [23, 36, 52, 18, 38, 77],\n",
       "       [63, 66, 63, 38, 53, 78],\n",
       "       [77, 71, 79, 66, 76, 85]])"
      ]
     },
     "execution_count": 86,
     "metadata": {},
     "output_type": "execute_result"
    }
   ],
   "source": [
    "np.partition(X,2,axis=0)"
   ]
  },
  {
   "cell_type": "code",
   "execution_count": 95,
   "id": "outstanding-writer",
   "metadata": {},
   "outputs": [],
   "source": [
    "#there is a np.argpartition that computes indices of the partition."
   ]
  },
  {
   "cell_type": "markdown",
   "id": "embedded-vampire",
   "metadata": {},
   "source": [
    "# Structured Data: NumPy’s Structured Arrays"
   ]
  },
  {
   "cell_type": "code",
   "execution_count": 96,
   "id": "decent-elimination",
   "metadata": {},
   "outputs": [],
   "source": [
    "#Imagine that we have several categories of data on a number of people (say, name,\n",
    "#age, and weight), and we’d like to store these values for use in a Python program. It\n",
    "#would be possible to store these in three separate arrays"
   ]
  },
  {
   "cell_type": "code",
   "execution_count": 97,
   "id": "infectious-summary",
   "metadata": {},
   "outputs": [],
   "source": [
    "name = ['Alice', 'Bob', 'Cathy', 'Doug']\n",
    "age = [25, 45, 37, 19]\n",
    "weight = [55.0, 85.5, 68.0, 61.5]"
   ]
  },
  {
   "cell_type": "code",
   "execution_count": 98,
   "id": "municipal-survey",
   "metadata": {},
   "outputs": [],
   "source": [
    "#But this is a bit clumsy. There’s nothing here that tells us that the three arrays are\n",
    "#related; it would be more natural if we could use a single structure to store all of this\n",
    "#data. NumPy can handle this through structured arrays, which are arrays with com‐\n",
    "#pound data types."
   ]
  },
  {
   "cell_type": "code",
   "execution_count": 99,
   "id": "minute-video",
   "metadata": {},
   "outputs": [],
   "source": [
    "data=np.zeros(4,dtype={'names':('name','age','weight'),'formats':('U10','i4','f8')})"
   ]
  },
  {
   "cell_type": "code",
   "execution_count": 100,
   "id": "coordinated-clinic",
   "metadata": {},
   "outputs": [
    {
     "name": "stdout",
     "output_type": "stream",
     "text": [
      "[('name', '<U10'), ('age', '<i4'), ('weight', '<f8')]\n"
     ]
    }
   ],
   "source": [
    "print(data.dtype)"
   ]
  },
  {
   "cell_type": "code",
   "execution_count": 101,
   "id": "contrary-arrangement",
   "metadata": {},
   "outputs": [],
   "source": [
    "#Here 'U10' translates to “Unicode string of maximum length 10,” 'i4' translates to\n",
    "#“4-byte (i.e., 32 bit) integer,” and 'f8' translates to “8-byte (i.e., 64 bit) float.”"
   ]
  },
  {
   "cell_type": "code",
   "execution_count": 102,
   "id": "neutral-bearing",
   "metadata": {},
   "outputs": [
    {
     "data": {
      "text/plain": [
       "array([('', 0, 0.), ('', 0, 0.), ('', 0, 0.), ('', 0, 0.)],\n",
       "      dtype=[('name', '<U10'), ('age', '<i4'), ('weight', '<f8')])"
      ]
     },
     "execution_count": 102,
     "metadata": {},
     "output_type": "execute_result"
    }
   ],
   "source": [
    "data"
   ]
  },
  {
   "cell_type": "code",
   "execution_count": 103,
   "id": "victorian-maximum",
   "metadata": {},
   "outputs": [],
   "source": [
    "data['name']=name\n",
    "data['age']=age\n",
    "data['weight']=weight"
   ]
  },
  {
   "cell_type": "code",
   "execution_count": 104,
   "id": "provincial-salvation",
   "metadata": {},
   "outputs": [
    {
     "data": {
      "text/plain": [
       "array([('Alice', 25, 55. ), ('Bob', 45, 85.5), ('Cathy', 37, 68. ),\n",
       "       ('Doug', 19, 61.5)],\n",
       "      dtype=[('name', '<U10'), ('age', '<i4'), ('weight', '<f8')])"
      ]
     },
     "execution_count": 104,
     "metadata": {},
     "output_type": "execute_result"
    }
   ],
   "source": [
    "data"
   ]
  },
  {
   "cell_type": "markdown",
   "id": "amateur-singapore",
   "metadata": {},
   "source": [
    "# Creating Structured Arrays"
   ]
  },
  {
   "cell_type": "code",
   "execution_count": 105,
   "id": "direct-password",
   "metadata": {},
   "outputs": [],
   "source": [
    "#For clarity, numerical types can be specified with Python types or NumPy dtype s\n",
    "#instead:"
   ]
  },
  {
   "cell_type": "code",
   "execution_count": 106,
   "id": "charitable-spice",
   "metadata": {},
   "outputs": [
    {
     "data": {
      "text/plain": [
       "dtype([('name', '<U10'), ('age', '<i8'), ('weight', '<f4')])"
      ]
     },
     "execution_count": 106,
     "metadata": {},
     "output_type": "execute_result"
    }
   ],
   "source": [
    "np.dtype({'names':('name', 'age', 'weight'),\n",
    "'formats':((np.str_, 10), int, np.float32)})"
   ]
  },
  {
   "cell_type": "code",
   "execution_count": 107,
   "id": "mysterious-anxiety",
   "metadata": {},
   "outputs": [],
   "source": [
    "#A compound type can also be specified as a list of tuples:"
   ]
  },
  {
   "cell_type": "code",
   "execution_count": 108,
   "id": "legitimate-closure",
   "metadata": {},
   "outputs": [
    {
     "data": {
      "text/plain": [
       "dtype([('name', 'S10'), ('age', '<i4'), ('weight', '<f8')])"
      ]
     },
     "execution_count": 108,
     "metadata": {},
     "output_type": "execute_result"
    }
   ],
   "source": [
    "np.dtype([('name', 'S10'), ('age', 'i4'), ('weight', 'f8')])"
   ]
  },
  {
   "cell_type": "markdown",
   "id": "chronic-plaza",
   "metadata": {},
   "source": [
    "# Thank You"
   ]
  }
 ],
 "metadata": {
  "kernelspec": {
   "display_name": "Python 3",
   "language": "python",
   "name": "python3"
  },
  "language_info": {
   "codemirror_mode": {
    "name": "ipython",
    "version": 3
   },
   "file_extension": ".py",
   "mimetype": "text/x-python",
   "name": "python",
   "nbconvert_exporter": "python",
   "pygments_lexer": "ipython3",
   "version": "3.8.5"
  }
 },
 "nbformat": 4,
 "nbformat_minor": 5
}
