{
 "cells": [
  {
   "cell_type": "code",
   "execution_count": 1,
   "id": "painful-nancy",
   "metadata": {},
   "outputs": [],
   "source": [
    "import numpy as np"
   ]
  },
  {
   "cell_type": "markdown",
   "id": "handmade-brunei",
   "metadata": {},
   "source": [
    "# Creating Numpy Arrays From Python List"
   ]
  },
  {
   "cell_type": "code",
   "execution_count": 3,
   "id": "blessed-staff",
   "metadata": {},
   "outputs": [
    {
     "data": {
      "text/plain": [
       "array([1, 4, 2, 5, 3])"
      ]
     },
     "execution_count": 3,
     "metadata": {},
     "output_type": "execute_result"
    }
   ],
   "source": [
    "#integer array\n",
    "np.array([1,4,2,5,3])"
   ]
  },
  {
   "cell_type": "code",
   "execution_count": 4,
   "id": "illegal-sister",
   "metadata": {},
   "outputs": [
    {
     "data": {
      "text/plain": [
       "array([3.14, 4.  , 2.  , 3.  ])"
      ]
     },
     "execution_count": 4,
     "metadata": {},
     "output_type": "execute_result"
    }
   ],
   "source": [
    "#Numpy will upcast things(If Possible) if datatypes in array are not same\n",
    "#here integers are upcast to floating point\n",
    "np.array([3.14,4,2,3])"
   ]
  },
  {
   "cell_type": "code",
   "execution_count": 5,
   "id": "frozen-wiring",
   "metadata": {},
   "outputs": [
    {
     "data": {
      "text/plain": [
       "array([1., 2., 3., 4.], dtype=float32)"
      ]
     },
     "execution_count": 5,
     "metadata": {},
     "output_type": "execute_result"
    }
   ],
   "source": [
    "#If we want to explicitly set the data type of the resulting array, we can use the dtype\n",
    "#keyword\n",
    "\n",
    "np.array([1,2,3,4],dtype='float32')"
   ]
  },
  {
   "cell_type": "code",
   "execution_count": 6,
   "id": "duplicate-immigration",
   "metadata": {},
   "outputs": [],
   "source": [
    "#Finally, unlike Python lists, NumPy arrays can explicitly be multidimensional; here’s\n",
    "#one way of initializing a multidimensional array using a list of lists"
   ]
  },
  {
   "cell_type": "code",
   "execution_count": 7,
   "id": "earned-offset",
   "metadata": {},
   "outputs": [
    {
     "data": {
      "text/plain": [
       "array([[2, 3, 4],\n",
       "       [4, 5, 6],\n",
       "       [6, 7, 8]])"
      ]
     },
     "execution_count": 7,
     "metadata": {},
     "output_type": "execute_result"
    }
   ],
   "source": [
    "np.array([range(i,i+3) for i in [2,4,6]])"
   ]
  },
  {
   "cell_type": "code",
   "execution_count": 8,
   "id": "excess-constant",
   "metadata": {},
   "outputs": [],
   "source": [
    "#The inner lists are treated as rows of the resulting two-dimensional array."
   ]
  },
  {
   "cell_type": "markdown",
   "id": "center-spice",
   "metadata": {},
   "source": [
    "# Creating Arrays from Scratch"
   ]
  },
  {
   "cell_type": "code",
   "execution_count": 10,
   "id": "horizontal-hospital",
   "metadata": {},
   "outputs": [],
   "source": [
    "# Create a length-10 integer array filled with zeros"
   ]
  },
  {
   "cell_type": "code",
   "execution_count": 14,
   "id": "noble-comparison",
   "metadata": {},
   "outputs": [
    {
     "data": {
      "text/plain": [
       "array([0, 0, 0, 0, 0, 0, 0, 0, 0, 0])"
      ]
     },
     "execution_count": 14,
     "metadata": {},
     "output_type": "execute_result"
    }
   ],
   "source": [
    "np.zeros(10,dtype=int)"
   ]
  },
  {
   "cell_type": "code",
   "execution_count": 15,
   "id": "quick-nitrogen",
   "metadata": {},
   "outputs": [],
   "source": [
    "# Create a 3x5 floating-point array filled with 1s"
   ]
  },
  {
   "cell_type": "code",
   "execution_count": 16,
   "id": "eastern-ranch",
   "metadata": {},
   "outputs": [
    {
     "data": {
      "text/plain": [
       "array([[1., 1., 1., 1., 1.],\n",
       "       [1., 1., 1., 1., 1.],\n",
       "       [1., 1., 1., 1., 1.]])"
      ]
     },
     "execution_count": 16,
     "metadata": {},
     "output_type": "execute_result"
    }
   ],
   "source": [
    "np.ones((3,5),dtype=float)"
   ]
  },
  {
   "cell_type": "code",
   "execution_count": 17,
   "id": "smoking-piece",
   "metadata": {},
   "outputs": [
    {
     "data": {
      "text/plain": [
       "array([[3.14, 3.14, 3.14, 3.14, 3.14],\n",
       "       [3.14, 3.14, 3.14, 3.14, 3.14],\n",
       "       [3.14, 3.14, 3.14, 3.14, 3.14]])"
      ]
     },
     "execution_count": 17,
     "metadata": {},
     "output_type": "execute_result"
    }
   ],
   "source": [
    "# Create a 3x5 array filled with 3.14\n",
    "np.full(shape=(3,5),fill_value=3.14)"
   ]
  },
  {
   "cell_type": "code",
   "execution_count": 18,
   "id": "massive-complexity",
   "metadata": {},
   "outputs": [
    {
     "data": {
      "text/plain": [
       "array([ 0,  2,  4,  6,  8, 10, 12, 14, 16, 18])"
      ]
     },
     "execution_count": 18,
     "metadata": {},
     "output_type": "execute_result"
    }
   ],
   "source": [
    "# Create an array filled with a linear sequence\n",
    "# Starting at 0, ending at 20, stepping by 2\n",
    "# (this is similar to the built-in range() function)\n",
    "np.arange(0,20,2)"
   ]
  },
  {
   "cell_type": "code",
   "execution_count": 19,
   "id": "reverse-credit",
   "metadata": {},
   "outputs": [
    {
     "data": {
      "text/plain": [
       "array([0.  , 0.25, 0.5 , 0.75, 1.  ])"
      ]
     },
     "execution_count": 19,
     "metadata": {},
     "output_type": "execute_result"
    }
   ],
   "source": [
    "# Create an array of five values evenly spaced between 0 and 1\n",
    "np.linspace(0,1,5)"
   ]
  },
  {
   "cell_type": "code",
   "execution_count": 22,
   "id": "baking-medicare",
   "metadata": {},
   "outputs": [
    {
     "data": {
      "text/plain": [
       "array([[0.36697399, 0.76147921, 0.46799404],\n",
       "       [0.05049429, 0.08481375, 0.9496487 ],\n",
       "       [0.86905386, 0.7270096 , 0.67307676]])"
      ]
     },
     "execution_count": 22,
     "metadata": {},
     "output_type": "execute_result"
    }
   ],
   "source": [
    "#Create a 3x3 array of uniformly distributed\n",
    "# random values between 0 and 1\n",
    "\n",
    "np.random.random((3,3))"
   ]
  },
  {
   "cell_type": "code",
   "execution_count": 23,
   "id": "antique-fifteen",
   "metadata": {},
   "outputs": [
    {
     "data": {
      "text/plain": [
       "array([[ 0.07185835, -0.46514412, -0.15834677],\n",
       "       [ 0.39514144,  0.35826387, -0.06240373],\n",
       "       [-1.13996422, -1.0986638 , -1.88787896]])"
      ]
     },
     "execution_count": 23,
     "metadata": {},
     "output_type": "execute_result"
    }
   ],
   "source": [
    "# Create a 3x3 array of normally distributed random values\n",
    "# with mean 0 and standard deviation 1\n",
    "np.random.normal(0,1,(3,3))"
   ]
  },
  {
   "cell_type": "code",
   "execution_count": 24,
   "id": "metric-musical",
   "metadata": {},
   "outputs": [
    {
     "data": {
      "text/plain": [
       "array([[2, 2, 9],\n",
       "       [4, 6, 3],\n",
       "       [6, 7, 8]])"
      ]
     },
     "execution_count": 24,
     "metadata": {},
     "output_type": "execute_result"
    }
   ],
   "source": [
    "# Create a 3x3 array of random integers in the interval [0, 10)\n",
    "np.random.randint(0,10,size=(3,3))"
   ]
  },
  {
   "cell_type": "code",
   "execution_count": 25,
   "id": "downtown-throat",
   "metadata": {},
   "outputs": [
    {
     "data": {
      "text/plain": [
       "array([[1., 0., 0.],\n",
       "       [0., 1., 0.],\n",
       "       [0., 0., 1.]])"
      ]
     },
     "execution_count": 25,
     "metadata": {},
     "output_type": "execute_result"
    }
   ],
   "source": [
    "# Create a 3x3 identity matrix\n",
    "np.eye(3)"
   ]
  },
  {
   "cell_type": "code",
   "execution_count": 26,
   "id": "korean-affiliate",
   "metadata": {},
   "outputs": [
    {
     "data": {
      "text/plain": [
       "array([1., 1., 1.])"
      ]
     },
     "execution_count": 26,
     "metadata": {},
     "output_type": "execute_result"
    }
   ],
   "source": [
    "# Create an uninitialized array of three integers\n",
    "# The values will be whatever happens to already exist at that\n",
    "# memory location\n",
    "np.empty(3)"
   ]
  },
  {
   "cell_type": "markdown",
   "id": "wanted-conviction",
   "metadata": {},
   "source": [
    "# NumPy Standard Data Types"
   ]
  },
  {
   "cell_type": "code",
   "execution_count": 27,
   "id": "annual-decade",
   "metadata": {},
   "outputs": [
    {
     "data": {
      "text/plain": [
       "array([0, 0, 0, 0, 0, 0, 0, 0, 0, 0], dtype=int16)"
      ]
     },
     "execution_count": 27,
     "metadata": {},
     "output_type": "execute_result"
    }
   ],
   "source": [
    "#Note that when constructing\n",
    "#an array, you can specify them using a string:\n",
    "np.zeros(10,dtype=\"int16\")\n",
    "# or using the associated Numpy Object\n",
    "np.zeros(10,dtype=np.int16)"
   ]
  },
  {
   "cell_type": "markdown",
   "id": "ignored-humidity",
   "metadata": {},
   "source": [
    "# Data type  Description"
   ]
  },
  {
   "cell_type": "code",
   "execution_count": 28,
   "id": "sonic-launch",
   "metadata": {},
   "outputs": [],
   "source": [
    "# bool_ Boolean (True or False) stored as a byte\n",
    "# int_ Default integer type (same as C long ; normally either int64 or int32 )\n",
    "#intc Identical to C int (normally int32 or int64 )\n",
    "#intp Integer used for indexing (same as C ssize_t ; normally either int32 or int64 )\n",
    "#int8 Byte (–128 to 127)\n",
    "#int16 Integer (–32768 to 32767)\n",
    "#int32 Integer (–2147483648 to 2147483647)\n",
    "#int64 Integer (–9223372036854775808 to 9223372036854775807)\n",
    "#uint8 Unsigned integer (0 to 255)\n",
    "#uint16 Unsigned integer (0 to 65535)\n",
    "#uint32 Unsigned integer (0 to 4294967295)\n",
    "#uint64 Unsigned integer (0 to 18446744073709551615)\n",
    "#float_ Shorthand for float64\n",
    "#float16 Half-precision float: sign bit, 5 bits exponent, 10 bits mantissa\n",
    "#float32 Single-precision float: sign bit, 8 bits exponent, 23 bits mantissa\n",
    "#float64 Double-precision float: sign bit, 11 bits exponent, 52 bits mantissa\n",
    "#complex_ Shorthand for complex128\n",
    "#complex64 Complex number, represented by two 32-bit floats\n",
    "#complex128 Complex number, represented by two 64-bit floats"
   ]
  },
  {
   "cell_type": "markdown",
   "id": "attached-introduction",
   "metadata": {},
   "source": [
    "# NumPy Array Attributes"
   ]
  },
  {
   "cell_type": "code",
   "execution_count": 29,
   "id": "western-rider",
   "metadata": {},
   "outputs": [],
   "source": [
    "np.random.seed(0) #seed for reproducibility\n",
    "x1=np.random.randint(10,size=6) # 1D array\n",
    "x2=np.random.randint(10,size=(3,4)) #2D array\n",
    "x3=np.random.randint(10,size=(3,4,5))# 3D array"
   ]
  },
  {
   "cell_type": "code",
   "execution_count": 30,
   "id": "engaging-uncle",
   "metadata": {},
   "outputs": [
    {
     "data": {
      "text/plain": [
       "array([5, 0, 3, 3, 7, 9])"
      ]
     },
     "execution_count": 30,
     "metadata": {},
     "output_type": "execute_result"
    }
   ],
   "source": [
    "x1"
   ]
  },
  {
   "cell_type": "code",
   "execution_count": 31,
   "id": "oriented-binary",
   "metadata": {},
   "outputs": [
    {
     "data": {
      "text/plain": [
       "array([[3, 5, 2, 4],\n",
       "       [7, 6, 8, 8],\n",
       "       [1, 6, 7, 7]])"
      ]
     },
     "execution_count": 31,
     "metadata": {},
     "output_type": "execute_result"
    }
   ],
   "source": [
    "x2"
   ]
  },
  {
   "cell_type": "code",
   "execution_count": 32,
   "id": "superior-hamburg",
   "metadata": {},
   "outputs": [
    {
     "data": {
      "text/plain": [
       "array([[[8, 1, 5, 9, 8],\n",
       "        [9, 4, 3, 0, 3],\n",
       "        [5, 0, 2, 3, 8],\n",
       "        [1, 3, 3, 3, 7]],\n",
       "\n",
       "       [[0, 1, 9, 9, 0],\n",
       "        [4, 7, 3, 2, 7],\n",
       "        [2, 0, 0, 4, 5],\n",
       "        [5, 6, 8, 4, 1]],\n",
       "\n",
       "       [[4, 9, 8, 1, 1],\n",
       "        [7, 9, 9, 3, 6],\n",
       "        [7, 2, 0, 3, 5],\n",
       "        [9, 4, 4, 6, 4]]])"
      ]
     },
     "execution_count": 32,
     "metadata": {},
     "output_type": "execute_result"
    }
   ],
   "source": [
    "x3"
   ]
  },
  {
   "cell_type": "code",
   "execution_count": 34,
   "id": "polish-nothing",
   "metadata": {},
   "outputs": [],
   "source": [
    "#Each array has attributes ndim (the number of dimensions), shape (the size of each\n",
    "#dimension), and size (the total size of the array)"
   ]
  },
  {
   "cell_type": "code",
   "execution_count": 35,
   "id": "cellular-poison",
   "metadata": {},
   "outputs": [
    {
     "name": "stdout",
     "output_type": "stream",
     "text": [
      "x3 ndim :  3\n",
      "x3 shape :  (3, 4, 5)\n",
      "x3 size :  60\n"
     ]
    }
   ],
   "source": [
    "print(\"x3 ndim : \",x3.ndim)\n",
    "print(\"x3 shape : \",x3.shape)\n",
    "print(\"x3 size : \",x3.size)"
   ]
  },
  {
   "cell_type": "code",
   "execution_count": 36,
   "id": "arranged-minimum",
   "metadata": {},
   "outputs": [
    {
     "name": "stdout",
     "output_type": "stream",
     "text": [
      "x3 dtype :  int64\n"
     ]
    }
   ],
   "source": [
    "print(\"x3 dtype : \",x3.dtype)"
   ]
  },
  {
   "cell_type": "code",
   "execution_count": 37,
   "id": "limiting-extraction",
   "metadata": {},
   "outputs": [
    {
     "name": "stdout",
     "output_type": "stream",
     "text": [
      "x3 itemsize :  8  bytes\n",
      "x3 nbytes :  480  bytes\n"
     ]
    }
   ],
   "source": [
    "print(\"x3 itemsize : \",x3.itemsize ,\" bytes\")\n",
    "print(\"x3 nbytes : \",x3.nbytes , \" bytes\")"
   ]
  },
  {
   "cell_type": "markdown",
   "id": "comparable-rings",
   "metadata": {},
   "source": [
    "# Thank You"
   ]
  }
 ],
 "metadata": {
  "kernelspec": {
   "display_name": "Python 3",
   "language": "python",
   "name": "python3"
  },
  "language_info": {
   "codemirror_mode": {
    "name": "ipython",
    "version": 3
   },
   "file_extension": ".py",
   "mimetype": "text/x-python",
   "name": "python",
   "nbconvert_exporter": "python",
   "pygments_lexer": "ipython3",
   "version": "3.8.5"
  }
 },
 "nbformat": 4,
 "nbformat_minor": 5
}
