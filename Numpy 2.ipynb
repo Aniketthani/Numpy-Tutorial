{
 "cells": [
  {
   "cell_type": "code",
   "execution_count": 1,
   "id": "curious-accent",
   "metadata": {},
   "outputs": [],
   "source": [
    "import numpy as np"
   ]
  },
  {
   "cell_type": "code",
   "execution_count": 2,
   "id": "dated-worship",
   "metadata": {},
   "outputs": [],
   "source": [
    "np.random.seed(0)\n",
    "x1=np.random.randint(10,size=6)\n",
    "x2=np.random.randint(10,size=(3,4))\n",
    "x3=np.random.randint(10,size=(3,4,5))"
   ]
  },
  {
   "cell_type": "code",
   "execution_count": 3,
   "id": "occasional-birmingham",
   "metadata": {},
   "outputs": [
    {
     "data": {
      "text/plain": [
       "array([5, 0, 3, 3, 7, 9])"
      ]
     },
     "execution_count": 3,
     "metadata": {},
     "output_type": "execute_result"
    }
   ],
   "source": [
    "x1"
   ]
  },
  {
   "cell_type": "code",
   "execution_count": 4,
   "id": "lined-indie",
   "metadata": {},
   "outputs": [
    {
     "data": {
      "text/plain": [
       "array([[3, 5, 2, 4],\n",
       "       [7, 6, 8, 8],\n",
       "       [1, 6, 7, 7]])"
      ]
     },
     "execution_count": 4,
     "metadata": {},
     "output_type": "execute_result"
    }
   ],
   "source": [
    "x2"
   ]
  },
  {
   "cell_type": "code",
   "execution_count": 5,
   "id": "obvious-liverpool",
   "metadata": {},
   "outputs": [
    {
     "data": {
      "text/plain": [
       "array([[[8, 1, 5, 9, 8],\n",
       "        [9, 4, 3, 0, 3],\n",
       "        [5, 0, 2, 3, 8],\n",
       "        [1, 3, 3, 3, 7]],\n",
       "\n",
       "       [[0, 1, 9, 9, 0],\n",
       "        [4, 7, 3, 2, 7],\n",
       "        [2, 0, 0, 4, 5],\n",
       "        [5, 6, 8, 4, 1]],\n",
       "\n",
       "       [[4, 9, 8, 1, 1],\n",
       "        [7, 9, 9, 3, 6],\n",
       "        [7, 2, 0, 3, 5],\n",
       "        [9, 4, 4, 6, 4]]])"
      ]
     },
     "execution_count": 5,
     "metadata": {},
     "output_type": "execute_result"
    }
   ],
   "source": [
    "x3"
   ]
  },
  {
   "cell_type": "markdown",
   "id": "computational-interference",
   "metadata": {},
   "source": [
    "# Array Indexing: Accessing Single Elements"
   ]
  },
  {
   "cell_type": "code",
   "execution_count": 6,
   "id": "spectacular-respect",
   "metadata": {},
   "outputs": [
    {
     "data": {
      "text/plain": [
       "5"
      ]
     },
     "execution_count": 6,
     "metadata": {},
     "output_type": "execute_result"
    }
   ],
   "source": [
    "x1[0]"
   ]
  },
  {
   "cell_type": "code",
   "execution_count": 7,
   "id": "accessory-employer",
   "metadata": {},
   "outputs": [
    {
     "data": {
      "text/plain": [
       "7"
      ]
     },
     "execution_count": 7,
     "metadata": {},
     "output_type": "execute_result"
    }
   ],
   "source": [
    "x1[4]"
   ]
  },
  {
   "cell_type": "code",
   "execution_count": 8,
   "id": "twelve-albuquerque",
   "metadata": {},
   "outputs": [
    {
     "data": {
      "text/plain": [
       "9"
      ]
     },
     "execution_count": 8,
     "metadata": {},
     "output_type": "execute_result"
    }
   ],
   "source": [
    "x1[-1]"
   ]
  },
  {
   "cell_type": "code",
   "execution_count": 9,
   "id": "consecutive-philosophy",
   "metadata": {},
   "outputs": [
    {
     "data": {
      "text/plain": [
       "7"
      ]
     },
     "execution_count": 9,
     "metadata": {},
     "output_type": "execute_result"
    }
   ],
   "source": [
    "x1[-2]"
   ]
  },
  {
   "cell_type": "code",
   "execution_count": 10,
   "id": "connected-basketball",
   "metadata": {},
   "outputs": [
    {
     "data": {
      "text/plain": [
       "array([[3, 5, 2, 4],\n",
       "       [7, 6, 8, 8],\n",
       "       [1, 6, 7, 7]])"
      ]
     },
     "execution_count": 10,
     "metadata": {},
     "output_type": "execute_result"
    }
   ],
   "source": [
    "x2"
   ]
  },
  {
   "cell_type": "code",
   "execution_count": 11,
   "id": "cathedral-packet",
   "metadata": {},
   "outputs": [
    {
     "data": {
      "text/plain": [
       "1"
      ]
     },
     "execution_count": 11,
     "metadata": {},
     "output_type": "execute_result"
    }
   ],
   "source": [
    "x2[2,0]"
   ]
  },
  {
   "cell_type": "code",
   "execution_count": 12,
   "id": "forbidden-ticket",
   "metadata": {},
   "outputs": [
    {
     "data": {
      "text/plain": [
       "7"
      ]
     },
     "execution_count": 12,
     "metadata": {},
     "output_type": "execute_result"
    }
   ],
   "source": [
    "x2[2,-1]"
   ]
  },
  {
   "cell_type": "code",
   "execution_count": 13,
   "id": "changing-thing",
   "metadata": {},
   "outputs": [],
   "source": [
    "#modify values using any of the above index notation"
   ]
  },
  {
   "cell_type": "code",
   "execution_count": 14,
   "id": "plain-contribution",
   "metadata": {},
   "outputs": [],
   "source": [
    "x2[0,0]=11"
   ]
  },
  {
   "cell_type": "code",
   "execution_count": 15,
   "id": "right-optimization",
   "metadata": {},
   "outputs": [
    {
     "data": {
      "text/plain": [
       "array([[11,  5,  2,  4],\n",
       "       [ 7,  6,  8,  8],\n",
       "       [ 1,  6,  7,  7]])"
      ]
     },
     "execution_count": 15,
     "metadata": {},
     "output_type": "execute_result"
    }
   ],
   "source": [
    "x2"
   ]
  },
  {
   "cell_type": "code",
   "execution_count": 16,
   "id": "diagnostic-character",
   "metadata": {},
   "outputs": [
    {
     "data": {
      "text/plain": [
       "array([5, 0, 3, 3, 7, 9])"
      ]
     },
     "execution_count": 16,
     "metadata": {},
     "output_type": "execute_result"
    }
   ],
   "source": [
    "x1"
   ]
  },
  {
   "cell_type": "code",
   "execution_count": 17,
   "id": "sorted-madrid",
   "metadata": {},
   "outputs": [],
   "source": [
    "x1[0]=3.14 # this will be truncated!"
   ]
  },
  {
   "cell_type": "code",
   "execution_count": 18,
   "id": "rural-original",
   "metadata": {},
   "outputs": [
    {
     "data": {
      "text/plain": [
       "array([3, 0, 3, 3, 7, 9])"
      ]
     },
     "execution_count": 18,
     "metadata": {},
     "output_type": "execute_result"
    }
   ],
   "source": [
    "x1"
   ]
  },
  {
   "cell_type": "markdown",
   "id": "exceptional-huntington",
   "metadata": {},
   "source": [
    "# Array Slicing: Accessing Subarrays"
   ]
  },
  {
   "cell_type": "markdown",
   "id": "municipal-domestic",
   "metadata": {},
   "source": [
    "# x[start:stop:step]"
   ]
  },
  {
   "cell_type": "markdown",
   "id": "parental-shape",
   "metadata": {},
   "source": [
    "# One Dimesional SubArrays"
   ]
  },
  {
   "cell_type": "code",
   "execution_count": 19,
   "id": "standard-export",
   "metadata": {},
   "outputs": [],
   "source": [
    "x=np.arange(10)"
   ]
  },
  {
   "cell_type": "code",
   "execution_count": 20,
   "id": "central-runner",
   "metadata": {},
   "outputs": [
    {
     "data": {
      "text/plain": [
       "array([0, 1, 2, 3, 4, 5, 6, 7, 8, 9])"
      ]
     },
     "execution_count": 20,
     "metadata": {},
     "output_type": "execute_result"
    }
   ],
   "source": [
    "x"
   ]
  },
  {
   "cell_type": "code",
   "execution_count": 21,
   "id": "determined-mason",
   "metadata": {},
   "outputs": [
    {
     "data": {
      "text/plain": [
       "array([0, 1, 2, 3, 4])"
      ]
     },
     "execution_count": 21,
     "metadata": {},
     "output_type": "execute_result"
    }
   ],
   "source": [
    "x[:5]"
   ]
  },
  {
   "cell_type": "code",
   "execution_count": 22,
   "id": "divine-gather",
   "metadata": {},
   "outputs": [
    {
     "data": {
      "text/plain": [
       "array([4, 5, 6])"
      ]
     },
     "execution_count": 22,
     "metadata": {},
     "output_type": "execute_result"
    }
   ],
   "source": [
    "x[4:7]"
   ]
  },
  {
   "cell_type": "code",
   "execution_count": 23,
   "id": "precise-directive",
   "metadata": {},
   "outputs": [
    {
     "data": {
      "text/plain": [
       "array([0, 2, 4, 6, 8])"
      ]
     },
     "execution_count": 23,
     "metadata": {},
     "output_type": "execute_result"
    }
   ],
   "source": [
    "x[::2]"
   ]
  },
  {
   "cell_type": "code",
   "execution_count": 24,
   "id": "designing-jesus",
   "metadata": {},
   "outputs": [
    {
     "data": {
      "text/plain": [
       "array([1, 3, 5, 7, 9])"
      ]
     },
     "execution_count": 24,
     "metadata": {},
     "output_type": "execute_result"
    }
   ],
   "source": [
    "x[1::2]"
   ]
  },
  {
   "cell_type": "code",
   "execution_count": 25,
   "id": "alpine-dance",
   "metadata": {},
   "outputs": [
    {
     "data": {
      "text/plain": [
       "array([9, 8, 7, 6, 5, 4, 3, 2, 1, 0])"
      ]
     },
     "execution_count": 25,
     "metadata": {},
     "output_type": "execute_result"
    }
   ],
   "source": [
    "#reverse an array\n",
    "x[::-1]"
   ]
  },
  {
   "cell_type": "code",
   "execution_count": 26,
   "id": "basic-chicken",
   "metadata": {},
   "outputs": [
    {
     "data": {
      "text/plain": [
       "array([5, 3, 1])"
      ]
     },
     "execution_count": 26,
     "metadata": {},
     "output_type": "execute_result"
    }
   ],
   "source": [
    "x[5::-2]"
   ]
  },
  {
   "cell_type": "markdown",
   "id": "characteristic-boxing",
   "metadata": {},
   "source": [
    "# MultiDimensional SubArrays"
   ]
  },
  {
   "cell_type": "code",
   "execution_count": 27,
   "id": "measured-electron",
   "metadata": {},
   "outputs": [
    {
     "data": {
      "text/plain": [
       "array([[11,  5,  2,  4],\n",
       "       [ 7,  6,  8,  8],\n",
       "       [ 1,  6,  7,  7]])"
      ]
     },
     "execution_count": 27,
     "metadata": {},
     "output_type": "execute_result"
    }
   ],
   "source": [
    "x2"
   ]
  },
  {
   "cell_type": "code",
   "execution_count": 28,
   "id": "wooden-ranch",
   "metadata": {},
   "outputs": [
    {
     "data": {
      "text/plain": [
       "array([[11,  5,  2],\n",
       "       [ 7,  6,  8]])"
      ]
     },
     "execution_count": 28,
     "metadata": {},
     "output_type": "execute_result"
    }
   ],
   "source": [
    "x2[:2,:3]"
   ]
  },
  {
   "cell_type": "code",
   "execution_count": 29,
   "id": "sustained-selling",
   "metadata": {},
   "outputs": [
    {
     "data": {
      "text/plain": [
       "array([[11,  2],\n",
       "       [ 7,  8],\n",
       "       [ 1,  7]])"
      ]
     },
     "execution_count": 29,
     "metadata": {},
     "output_type": "execute_result"
    }
   ],
   "source": [
    "x2[:3,::2]"
   ]
  },
  {
   "cell_type": "code",
   "execution_count": 30,
   "id": "prime-uncertainty",
   "metadata": {},
   "outputs": [
    {
     "data": {
      "text/plain": [
       "array([[ 7,  7,  6,  1],\n",
       "       [ 8,  8,  6,  7],\n",
       "       [ 4,  2,  5, 11]])"
      ]
     },
     "execution_count": 30,
     "metadata": {},
     "output_type": "execute_result"
    }
   ],
   "source": [
    "x2[::-1,::-1]"
   ]
  },
  {
   "cell_type": "markdown",
   "id": "fabulous-incidence",
   "metadata": {},
   "source": [
    "# Subarrays as no-copy views"
   ]
  },
  {
   "cell_type": "code",
   "execution_count": 31,
   "id": "protected-warner",
   "metadata": {},
   "outputs": [],
   "source": [
    "#One important—and extremely useful—thing to know about array slices is that they\n",
    "#return views rather than copies of the array data. This is one area in which NumPy\n",
    "#array slicing differs from Python list slicing: in lists, slices will be copies."
   ]
  },
  {
   "cell_type": "code",
   "execution_count": 32,
   "id": "amended-zimbabwe",
   "metadata": {},
   "outputs": [],
   "source": [
    "#Example"
   ]
  },
  {
   "cell_type": "code",
   "execution_count": 33,
   "id": "confidential-vegetation",
   "metadata": {},
   "outputs": [],
   "source": [
    "x2=np.random.randint(0,10,size=(4,4))"
   ]
  },
  {
   "cell_type": "code",
   "execution_count": 34,
   "id": "national-georgia",
   "metadata": {},
   "outputs": [
    {
     "data": {
      "text/plain": [
       "array([[4, 3, 4, 4],\n",
       "       [8, 4, 3, 7],\n",
       "       [5, 5, 0, 1],\n",
       "       [5, 9, 3, 0]])"
      ]
     },
     "execution_count": 34,
     "metadata": {},
     "output_type": "execute_result"
    }
   ],
   "source": [
    "x2"
   ]
  },
  {
   "cell_type": "code",
   "execution_count": 35,
   "id": "fitting-pioneer",
   "metadata": {},
   "outputs": [],
   "source": [
    "#slicing here will create just a view of the original data not copy of it and any changes will be reflected in \n",
    "#the original array itself."
   ]
  },
  {
   "cell_type": "code",
   "execution_count": 36,
   "id": "dried-tattoo",
   "metadata": {},
   "outputs": [],
   "source": [
    "sub_x2=x2[:2,:2]"
   ]
  },
  {
   "cell_type": "code",
   "execution_count": 38,
   "id": "destroyed-kidney",
   "metadata": {},
   "outputs": [
    {
     "data": {
      "text/plain": [
       "array([[4, 3],\n",
       "       [8, 4]])"
      ]
     },
     "execution_count": 38,
     "metadata": {},
     "output_type": "execute_result"
    }
   ],
   "source": [
    "sub_x2"
   ]
  },
  {
   "cell_type": "code",
   "execution_count": 39,
   "id": "august-story",
   "metadata": {},
   "outputs": [],
   "source": [
    "sub_x2[0,0]=99"
   ]
  },
  {
   "cell_type": "code",
   "execution_count": 40,
   "id": "celtic-scottish",
   "metadata": {},
   "outputs": [
    {
     "data": {
      "text/plain": [
       "array([[99,  3],\n",
       "       [ 8,  4]])"
      ]
     },
     "execution_count": 40,
     "metadata": {},
     "output_type": "execute_result"
    }
   ],
   "source": [
    "sub_x2"
   ]
  },
  {
   "cell_type": "code",
   "execution_count": 41,
   "id": "empirical-tattoo",
   "metadata": {},
   "outputs": [
    {
     "data": {
      "text/plain": [
       "array([[99,  3,  4,  4],\n",
       "       [ 8,  4,  3,  7],\n",
       "       [ 5,  5,  0,  1],\n",
       "       [ 5,  9,  3,  0]])"
      ]
     },
     "execution_count": 41,
     "metadata": {},
     "output_type": "execute_result"
    }
   ],
   "source": [
    "x2"
   ]
  },
  {
   "cell_type": "markdown",
   "id": "revolutionary-dealing",
   "metadata": {},
   "source": [
    "# Creating copies of arrays"
   ]
  },
  {
   "cell_type": "code",
   "execution_count": 42,
   "id": "suited-triangle",
   "metadata": {},
   "outputs": [],
   "source": [
    "x2=np.random.randint(0,10,(4,4))"
   ]
  },
  {
   "cell_type": "code",
   "execution_count": 43,
   "id": "impaired-activation",
   "metadata": {},
   "outputs": [
    {
     "data": {
      "text/plain": [
       "array([[5, 0, 1, 2],\n",
       "       [4, 2, 0, 3],\n",
       "       [2, 0, 7, 5],\n",
       "       [9, 0, 2, 7]])"
      ]
     },
     "execution_count": 43,
     "metadata": {},
     "output_type": "execute_result"
    }
   ],
   "source": [
    "x2"
   ]
  },
  {
   "cell_type": "code",
   "execution_count": 44,
   "id": "necessary-tobago",
   "metadata": {},
   "outputs": [],
   "source": [
    "sub_x2_copy=x2[:2,:2].copy()"
   ]
  },
  {
   "cell_type": "code",
   "execution_count": 46,
   "id": "surprising-copper",
   "metadata": {},
   "outputs": [
    {
     "data": {
      "text/plain": [
       "array([[5, 0],\n",
       "       [4, 2]])"
      ]
     },
     "execution_count": 46,
     "metadata": {},
     "output_type": "execute_result"
    }
   ],
   "source": [
    "sub_x2_copy"
   ]
  },
  {
   "cell_type": "code",
   "execution_count": 47,
   "id": "comic-gossip",
   "metadata": {},
   "outputs": [],
   "source": [
    "sub_x2_copy[0,0]=101"
   ]
  },
  {
   "cell_type": "code",
   "execution_count": 50,
   "id": "miniature-yield",
   "metadata": {},
   "outputs": [
    {
     "data": {
      "text/plain": [
       "array([[101,   0],\n",
       "       [  4,   2]])"
      ]
     },
     "execution_count": 50,
     "metadata": {},
     "output_type": "execute_result"
    }
   ],
   "source": [
    "sub_x2_copy #here copy is created not a view"
   ]
  },
  {
   "cell_type": "code",
   "execution_count": 51,
   "id": "enormous-worse",
   "metadata": {},
   "outputs": [
    {
     "data": {
      "text/plain": [
       "array([[5, 0, 1, 2],\n",
       "       [4, 2, 0, 3],\n",
       "       [2, 0, 7, 5],\n",
       "       [9, 0, 2, 7]])"
      ]
     },
     "execution_count": 51,
     "metadata": {},
     "output_type": "execute_result"
    }
   ],
   "source": [
    "x2"
   ]
  },
  {
   "cell_type": "markdown",
   "id": "recovered-cleaners",
   "metadata": {},
   "source": [
    "# Reshaping of Arrays"
   ]
  },
  {
   "cell_type": "code",
   "execution_count": 54,
   "id": "powerful-junior",
   "metadata": {},
   "outputs": [],
   "source": [
    "x=np.arange(1,10)"
   ]
  },
  {
   "cell_type": "code",
   "execution_count": 55,
   "id": "small-lyric",
   "metadata": {},
   "outputs": [
    {
     "data": {
      "text/plain": [
       "array([1, 2, 3, 4, 5, 6, 7, 8, 9])"
      ]
     },
     "execution_count": 55,
     "metadata": {},
     "output_type": "execute_result"
    }
   ],
   "source": [
    "x"
   ]
  },
  {
   "cell_type": "code",
   "execution_count": 56,
   "id": "super-sewing",
   "metadata": {},
   "outputs": [],
   "source": [
    "#now reshaping x into (3,3)"
   ]
  },
  {
   "cell_type": "code",
   "execution_count": 57,
   "id": "acoustic-leisure",
   "metadata": {},
   "outputs": [],
   "source": [
    "x=x.reshape((3,3))"
   ]
  },
  {
   "cell_type": "code",
   "execution_count": 58,
   "id": "lyric-russian",
   "metadata": {},
   "outputs": [
    {
     "data": {
      "text/plain": [
       "array([[1, 2, 3],\n",
       "       [4, 5, 6],\n",
       "       [7, 8, 9]])"
      ]
     },
     "execution_count": 58,
     "metadata": {},
     "output_type": "execute_result"
    }
   ],
   "source": [
    "x"
   ]
  },
  {
   "cell_type": "code",
   "execution_count": 59,
   "id": "significant-gross",
   "metadata": {},
   "outputs": [],
   "source": [
    "#making row vector using reshape"
   ]
  },
  {
   "cell_type": "code",
   "execution_count": 60,
   "id": "color-logging",
   "metadata": {},
   "outputs": [],
   "source": [
    "x=np.array([1,2,3])"
   ]
  },
  {
   "cell_type": "code",
   "execution_count": 61,
   "id": "eight-understanding",
   "metadata": {},
   "outputs": [
    {
     "data": {
      "text/plain": [
       "array([1, 2, 3])"
      ]
     },
     "execution_count": 61,
     "metadata": {},
     "output_type": "execute_result"
    }
   ],
   "source": [
    "x"
   ]
  },
  {
   "cell_type": "code",
   "execution_count": 62,
   "id": "stone-isaac",
   "metadata": {},
   "outputs": [],
   "source": [
    "x=x.reshape((1,3))"
   ]
  },
  {
   "cell_type": "code",
   "execution_count": 63,
   "id": "macro-arthur",
   "metadata": {},
   "outputs": [
    {
     "data": {
      "text/plain": [
       "array([[1, 2, 3]])"
      ]
     },
     "execution_count": 63,
     "metadata": {},
     "output_type": "execute_result"
    }
   ],
   "source": [
    "x"
   ]
  },
  {
   "cell_type": "code",
   "execution_count": 64,
   "id": "preceding-pencil",
   "metadata": {},
   "outputs": [],
   "source": [
    "#making row vector using newaxis within slicing of array"
   ]
  },
  {
   "cell_type": "code",
   "execution_count": 66,
   "id": "prostate-plumbing",
   "metadata": {},
   "outputs": [],
   "source": [
    "x=np.array([1,2,3])"
   ]
  },
  {
   "cell_type": "code",
   "execution_count": 67,
   "id": "interested-cancellation",
   "metadata": {},
   "outputs": [],
   "source": [
    "x=x[np.newaxis,:]"
   ]
  },
  {
   "cell_type": "code",
   "execution_count": 68,
   "id": "linear-restoration",
   "metadata": {},
   "outputs": [
    {
     "data": {
      "text/plain": [
       "array([[1, 2, 3]])"
      ]
     },
     "execution_count": 68,
     "metadata": {},
     "output_type": "execute_result"
    }
   ],
   "source": [
    "x"
   ]
  },
  {
   "cell_type": "code",
   "execution_count": 69,
   "id": "designed-diesel",
   "metadata": {},
   "outputs": [],
   "source": [
    "#column vector using reshape"
   ]
  },
  {
   "cell_type": "code",
   "execution_count": 70,
   "id": "prepared-retailer",
   "metadata": {},
   "outputs": [],
   "source": [
    "x=np.array([1,2,3])"
   ]
  },
  {
   "cell_type": "code",
   "execution_count": 71,
   "id": "wrong-algeria",
   "metadata": {},
   "outputs": [
    {
     "data": {
      "text/plain": [
       "array([1, 2, 3])"
      ]
     },
     "execution_count": 71,
     "metadata": {},
     "output_type": "execute_result"
    }
   ],
   "source": [
    "x"
   ]
  },
  {
   "cell_type": "code",
   "execution_count": 72,
   "id": "broad-skill",
   "metadata": {},
   "outputs": [],
   "source": [
    "x=x.reshape((3,1))"
   ]
  },
  {
   "cell_type": "code",
   "execution_count": 73,
   "id": "sublime-bundle",
   "metadata": {},
   "outputs": [
    {
     "data": {
      "text/plain": [
       "array([[1],\n",
       "       [2],\n",
       "       [3]])"
      ]
     },
     "execution_count": 73,
     "metadata": {},
     "output_type": "execute_result"
    }
   ],
   "source": [
    "x"
   ]
  },
  {
   "cell_type": "code",
   "execution_count": 74,
   "id": "spoken-oakland",
   "metadata": {},
   "outputs": [],
   "source": [
    "#column vector using newaxis"
   ]
  },
  {
   "cell_type": "code",
   "execution_count": 75,
   "id": "ecological-ordinance",
   "metadata": {},
   "outputs": [],
   "source": [
    "x=np.array([1,2,3])"
   ]
  },
  {
   "cell_type": "code",
   "execution_count": 76,
   "id": "extreme-lambda",
   "metadata": {},
   "outputs": [
    {
     "data": {
      "text/plain": [
       "array([1, 2, 3])"
      ]
     },
     "execution_count": 76,
     "metadata": {},
     "output_type": "execute_result"
    }
   ],
   "source": [
    "x"
   ]
  },
  {
   "cell_type": "code",
   "execution_count": 77,
   "id": "metallic-cooperation",
   "metadata": {},
   "outputs": [],
   "source": [
    "x=x[:,np.newaxis]"
   ]
  },
  {
   "cell_type": "code",
   "execution_count": 78,
   "id": "soviet-adams",
   "metadata": {},
   "outputs": [
    {
     "data": {
      "text/plain": [
       "array([[1],\n",
       "       [2],\n",
       "       [3]])"
      ]
     },
     "execution_count": 78,
     "metadata": {},
     "output_type": "execute_result"
    }
   ],
   "source": [
    "x"
   ]
  },
  {
   "cell_type": "markdown",
   "id": "entire-laugh",
   "metadata": {},
   "source": [
    "# Thank You"
   ]
  }
 ],
 "metadata": {
  "kernelspec": {
   "display_name": "Python 3",
   "language": "python",
   "name": "python3"
  },
  "language_info": {
   "codemirror_mode": {
    "name": "ipython",
    "version": 3
   },
   "file_extension": ".py",
   "mimetype": "text/x-python",
   "name": "python",
   "nbconvert_exporter": "python",
   "pygments_lexer": "ipython3",
   "version": "3.8.5"
  }
 },
 "nbformat": 4,
 "nbformat_minor": 5
}
