{
 "cells": [
  {
   "cell_type": "code",
   "execution_count": 1,
   "id": "chronic-portugal",
   "metadata": {},
   "outputs": [],
   "source": [
    "import numpy as np "
   ]
  },
  {
   "cell_type": "markdown",
   "id": "split-yellow",
   "metadata": {},
   "source": [
    "# Aggregates"
   ]
  },
  {
   "cell_type": "markdown",
   "id": "solar-rehabilitation",
   "metadata": {},
   "source": [
    "# reduce function\n",
    "reduce repeatedly applies a\n",
    "given operation to the elements of an array until only a single result remains."
   ]
  },
  {
   "cell_type": "code",
   "execution_count": 2,
   "id": "sought-federation",
   "metadata": {},
   "outputs": [],
   "source": [
    "x=np.arange(0,4)"
   ]
  },
  {
   "cell_type": "code",
   "execution_count": 3,
   "id": "developing-bearing",
   "metadata": {},
   "outputs": [
    {
     "data": {
      "text/plain": [
       "array([0, 1, 2, 3])"
      ]
     },
     "execution_count": 3,
     "metadata": {},
     "output_type": "execute_result"
    }
   ],
   "source": [
    "x"
   ]
  },
  {
   "cell_type": "code",
   "execution_count": 4,
   "id": "iraqi-header",
   "metadata": {},
   "outputs": [
    {
     "data": {
      "text/plain": [
       "6"
      ]
     },
     "execution_count": 4,
     "metadata": {},
     "output_type": "execute_result"
    }
   ],
   "source": [
    "np.add.reduce(x)"
   ]
  },
  {
   "cell_type": "code",
   "execution_count": 5,
   "id": "flexible-geology",
   "metadata": {},
   "outputs": [
    {
     "data": {
      "text/plain": [
       "0"
      ]
     },
     "execution_count": 5,
     "metadata": {},
     "output_type": "execute_result"
    }
   ],
   "source": [
    "np.multiply.reduce(x)"
   ]
  },
  {
   "cell_type": "code",
   "execution_count": 6,
   "id": "insured-output",
   "metadata": {},
   "outputs": [
    {
     "data": {
      "text/plain": [
       "-6"
      ]
     },
     "execution_count": 6,
     "metadata": {},
     "output_type": "execute_result"
    }
   ],
   "source": [
    "np.subtract.reduce(x)"
   ]
  },
  {
   "cell_type": "markdown",
   "id": "spatial-trace",
   "metadata": {},
   "source": [
    "# accumulate function"
   ]
  },
  {
   "cell_type": "code",
   "execution_count": 7,
   "id": "animal-pathology",
   "metadata": {},
   "outputs": [],
   "source": [
    "# If we’d like to store all the intermediate results of the computation, we can instead use\n",
    "#accumulate"
   ]
  },
  {
   "cell_type": "code",
   "execution_count": 8,
   "id": "promotional-chapter",
   "metadata": {},
   "outputs": [
    {
     "data": {
      "text/plain": [
       "array([0, 1, 2, 3])"
      ]
     },
     "execution_count": 8,
     "metadata": {},
     "output_type": "execute_result"
    }
   ],
   "source": [
    "x"
   ]
  },
  {
   "cell_type": "code",
   "execution_count": 9,
   "id": "understanding-harassment",
   "metadata": {},
   "outputs": [
    {
     "data": {
      "text/plain": [
       "array([0, 1, 3, 6])"
      ]
     },
     "execution_count": 9,
     "metadata": {},
     "output_type": "execute_result"
    }
   ],
   "source": [
    "np.add.accumulate(x)"
   ]
  },
  {
   "cell_type": "markdown",
   "id": "valuable-morris",
   "metadata": {},
   "source": [
    "# outer method"
   ]
  },
  {
   "cell_type": "code",
   "execution_count": 10,
   "id": "inside-soundtrack",
   "metadata": {},
   "outputs": [],
   "source": [
    "#any ufunc can compute the output of all pairs of two different inputs using\n",
    "#the outer method. This allows you, in one line, to do things like create a multiplica‐\n",
    "#tion table"
   ]
  },
  {
   "cell_type": "code",
   "execution_count": 11,
   "id": "vital-south",
   "metadata": {},
   "outputs": [],
   "source": [
    "x=np.arange(6)"
   ]
  },
  {
   "cell_type": "code",
   "execution_count": 12,
   "id": "ruled-sport",
   "metadata": {},
   "outputs": [
    {
     "data": {
      "text/plain": [
       "array([[ 0,  1,  2,  3,  4,  5],\n",
       "       [ 1,  2,  3,  4,  5,  6],\n",
       "       [ 2,  3,  4,  5,  6,  7],\n",
       "       [ 3,  4,  5,  6,  7,  8],\n",
       "       [ 4,  5,  6,  7,  8,  9],\n",
       "       [ 5,  6,  7,  8,  9, 10]])"
      ]
     },
     "execution_count": 12,
     "metadata": {},
     "output_type": "execute_result"
    }
   ],
   "source": [
    "np.add.outer(x,x)"
   ]
  },
  {
   "cell_type": "code",
   "execution_count": 13,
   "id": "guided-value",
   "metadata": {},
   "outputs": [
    {
     "data": {
      "text/plain": [
       "array([0, 1, 2, 3, 4, 5])"
      ]
     },
     "execution_count": 13,
     "metadata": {},
     "output_type": "execute_result"
    }
   ],
   "source": [
    "x"
   ]
  },
  {
   "cell_type": "code",
   "execution_count": 14,
   "id": "warming-wyoming",
   "metadata": {},
   "outputs": [
    {
     "data": {
      "text/plain": [
       "array([[ 0,  0,  0,  0,  0,  0],\n",
       "       [ 0,  1,  2,  3,  4,  5],\n",
       "       [ 0,  2,  4,  6,  8, 10],\n",
       "       [ 0,  3,  6,  9, 12, 15],\n",
       "       [ 0,  4,  8, 12, 16, 20],\n",
       "       [ 0,  5, 10, 15, 20, 25]])"
      ]
     },
     "execution_count": 14,
     "metadata": {},
     "output_type": "execute_result"
    }
   ],
   "source": [
    "np.multiply.outer(x,x)"
   ]
  },
  {
   "cell_type": "markdown",
   "id": "associate-paris",
   "metadata": {},
   "source": [
    "# Aggregations: Min, Max, and Everything in Between"
   ]
  },
  {
   "cell_type": "code",
   "execution_count": 15,
   "id": "caring-expense",
   "metadata": {},
   "outputs": [],
   "source": [
    "L=np.random.random(100)"
   ]
  },
  {
   "cell_type": "code",
   "execution_count": 16,
   "id": "coordinated-invalid",
   "metadata": {},
   "outputs": [
    {
     "data": {
      "text/plain": [
       "array([0.93465396, 0.35032881, 0.82650619, 0.56552384, 0.47448798,\n",
       "       0.06174575, 0.7378416 , 0.98194918, 0.58019663, 0.31222381,\n",
       "       0.36713483, 0.11293405, 0.9747768 , 0.98283567, 0.11992174,\n",
       "       0.78986212, 0.89036955, 0.75810319, 0.15481984, 0.13253802,\n",
       "       0.88659172, 0.81175764, 0.17384116, 0.80600684, 0.03272015,\n",
       "       0.89431651, 0.53151493, 0.18568367, 0.47530784, 0.51886298,\n",
       "       0.5996051 , 0.99635097, 0.67716137, 0.07550276, 0.19542065,\n",
       "       0.87950071, 0.11475996, 0.19106756, 0.42862166, 0.49387269,\n",
       "       0.82586294, 0.33699617, 0.90691017, 0.68776288, 0.97743218,\n",
       "       0.68076951, 0.96955381, 0.50075448, 0.06613685, 0.46232822,\n",
       "       0.88958724, 0.44510867, 0.33764069, 0.9317091 , 0.91440896,\n",
       "       0.35124823, 0.27242491, 0.38279669, 0.50751432, 0.94541008,\n",
       "       0.19526898, 0.70080517, 0.28849929, 0.52840829, 0.82518743,\n",
       "       0.17940511, 0.22742076, 0.7033139 , 0.30751965, 0.55285159,\n",
       "       0.20997614, 0.875149  , 0.1147612 , 0.53854272, 0.43952413,\n",
       "       0.03566522, 0.65600698, 0.23968705, 0.54606915, 0.4217203 ,\n",
       "       0.66133849, 0.09861267, 0.46974567, 0.70054767, 0.17783087,\n",
       "       0.69782512, 0.74968147, 0.72420913, 0.79410373, 0.67249291,\n",
       "       0.6101813 , 0.22166417, 0.07444116, 0.58553875, 0.55845132,\n",
       "       0.79228118, 0.29858485, 0.20117508, 0.29405076, 0.2274512 ])"
      ]
     },
     "execution_count": 16,
     "metadata": {},
     "output_type": "execute_result"
    }
   ],
   "source": [
    "L"
   ]
  },
  {
   "cell_type": "code",
   "execution_count": 17,
   "id": "concerned-equation",
   "metadata": {},
   "outputs": [
    {
     "data": {
      "text/plain": [
       "51.66556611814351"
      ]
     },
     "execution_count": 17,
     "metadata": {},
     "output_type": "execute_result"
    }
   ],
   "source": [
    "#Sum using python's default sum function\n",
    "sum(L)"
   ]
  },
  {
   "cell_type": "code",
   "execution_count": 18,
   "id": "clinical-clinton",
   "metadata": {},
   "outputs": [],
   "source": [
    "#now with numpy's sum function"
   ]
  },
  {
   "cell_type": "code",
   "execution_count": 19,
   "id": "innovative-terrain",
   "metadata": {},
   "outputs": [
    {
     "data": {
      "text/plain": [
       "51.66556611814353"
      ]
     },
     "execution_count": 19,
     "metadata": {},
     "output_type": "execute_result"
    }
   ],
   "source": [
    "np.sum(L)"
   ]
  },
  {
   "cell_type": "code",
   "execution_count": 21,
   "id": "worst-accused",
   "metadata": {},
   "outputs": [],
   "source": [
    "#However, because it executes the operation in compiled code, NumPy’s version of the\n",
    "#operation is computed much more quickly"
   ]
  },
  {
   "cell_type": "code",
   "execution_count": 22,
   "id": "eastern-share",
   "metadata": {},
   "outputs": [],
   "source": [
    "#min and max in numpy"
   ]
  },
  {
   "cell_type": "code",
   "execution_count": 23,
   "id": "bronze-captain",
   "metadata": {},
   "outputs": [
    {
     "data": {
      "text/plain": [
       "0.032720149511245356"
      ]
     },
     "execution_count": 23,
     "metadata": {},
     "output_type": "execute_result"
    }
   ],
   "source": [
    "np.min(L)"
   ]
  },
  {
   "cell_type": "code",
   "execution_count": 24,
   "id": "permanent-huntington",
   "metadata": {},
   "outputs": [
    {
     "data": {
      "text/plain": [
       "0.9963509747257734"
      ]
     },
     "execution_count": 24,
     "metadata": {},
     "output_type": "execute_result"
    }
   ],
   "source": [
    "np.max(L)"
   ]
  },
  {
   "cell_type": "markdown",
   "id": "similar-flush",
   "metadata": {},
   "source": [
    "# Multidimensional aggregates"
   ]
  },
  {
   "cell_type": "code",
   "execution_count": 25,
   "id": "destroyed-cowboy",
   "metadata": {},
   "outputs": [],
   "source": [
    "M=np.random.random((3,4))"
   ]
  },
  {
   "cell_type": "code",
   "execution_count": 26,
   "id": "jewish-packing",
   "metadata": {},
   "outputs": [
    {
     "data": {
      "text/plain": [
       "array([[0.12748917, 0.70795728, 0.2536277 , 0.82183998],\n",
       "       [0.39578713, 0.73831433, 0.596417  , 0.14112074],\n",
       "       [0.03764693, 0.66769169, 0.42309057, 0.33744818]])"
      ]
     },
     "execution_count": 26,
     "metadata": {},
     "output_type": "execute_result"
    }
   ],
   "source": [
    "M"
   ]
  },
  {
   "cell_type": "code",
   "execution_count": 27,
   "id": "convenient-testimony",
   "metadata": {},
   "outputs": [
    {
     "data": {
      "text/plain": [
       "5.248430691788115"
      ]
     },
     "execution_count": 27,
     "metadata": {},
     "output_type": "execute_result"
    }
   ],
   "source": [
    "M.sum()"
   ]
  },
  {
   "cell_type": "code",
   "execution_count": 28,
   "id": "cloudy-collect",
   "metadata": {},
   "outputs": [
    {
     "data": {
      "text/plain": [
       "array([0.56092323, 2.1139633 , 1.27313527, 1.3004089 ])"
      ]
     },
     "execution_count": 28,
     "metadata": {},
     "output_type": "execute_result"
    }
   ],
   "source": [
    "M.sum(axis=0)"
   ]
  },
  {
   "cell_type": "code",
   "execution_count": 29,
   "id": "other-millennium",
   "metadata": {},
   "outputs": [
    {
     "data": {
      "text/plain": [
       "array([1.91091412, 1.8716392 , 1.46587737])"
      ]
     },
     "execution_count": 29,
     "metadata": {},
     "output_type": "execute_result"
    }
   ],
   "source": [
    "M.sum(axis=1)"
   ]
  },
  {
   "cell_type": "code",
   "execution_count": 30,
   "id": "seasonal-future",
   "metadata": {},
   "outputs": [
    {
     "data": {
      "text/plain": [
       "0.03764693360388893"
      ]
     },
     "execution_count": 30,
     "metadata": {},
     "output_type": "execute_result"
    }
   ],
   "source": [
    "M.min()"
   ]
  },
  {
   "cell_type": "code",
   "execution_count": 31,
   "id": "brutal-charleston",
   "metadata": {},
   "outputs": [
    {
     "data": {
      "text/plain": [
       "array([0.03764693, 0.66769169, 0.2536277 , 0.14112074])"
      ]
     },
     "execution_count": 31,
     "metadata": {},
     "output_type": "execute_result"
    }
   ],
   "source": [
    "M.min(axis=0)"
   ]
  },
  {
   "cell_type": "code",
   "execution_count": 32,
   "id": "honey-swaziland",
   "metadata": {},
   "outputs": [
    {
     "data": {
      "text/plain": [
       "0.8218399779956046"
      ]
     },
     "execution_count": 32,
     "metadata": {},
     "output_type": "execute_result"
    }
   ],
   "source": [
    "M.max()"
   ]
  },
  {
   "cell_type": "code",
   "execution_count": 33,
   "id": "angry-hungary",
   "metadata": {},
   "outputs": [
    {
     "data": {
      "text/plain": [
       "array([0.82183998, 0.73831433, 0.66769169])"
      ]
     },
     "execution_count": 33,
     "metadata": {},
     "output_type": "execute_result"
    }
   ],
   "source": [
    "M.max(axis=1)"
   ]
  },
  {
   "cell_type": "code",
   "execution_count": 35,
   "id": "filled-settle",
   "metadata": {},
   "outputs": [
    {
     "data": {
      "text/plain": [
       "0.2548190668192609"
      ]
     },
     "execution_count": 35,
     "metadata": {},
     "output_type": "execute_result"
    }
   ],
   "source": [
    "M.std() #standard deviation"
   ]
  },
  {
   "cell_type": "code",
   "execution_count": 36,
   "id": "ongoing-gender",
   "metadata": {},
   "outputs": [
    {
     "data": {
      "text/plain": [
       "0.4373692243156762"
      ]
     },
     "execution_count": 36,
     "metadata": {},
     "output_type": "execute_result"
    }
   ],
   "source": [
    "M.mean()"
   ]
  },
  {
   "cell_type": "code",
   "execution_count": 38,
   "id": "naughty-investigation",
   "metadata": {},
   "outputs": [
    {
     "data": {
      "text/plain": [
       "0.2255009610552747"
      ]
     },
     "execution_count": 38,
     "metadata": {},
     "output_type": "execute_result"
    }
   ],
   "source": [
    "np.percentile(M,25)"
   ]
  },
  {
   "cell_type": "code",
   "execution_count": 39,
   "id": "encouraging-sunset",
   "metadata": {},
   "outputs": [
    {
     "data": {
      "text/plain": [
       "0.4094388475704761"
      ]
     },
     "execution_count": 39,
     "metadata": {},
     "output_type": "execute_result"
    }
   ],
   "source": [
    "np.median(M)"
   ]
  },
  {
   "cell_type": "markdown",
   "id": "infrared-convertible",
   "metadata": {},
   "source": [
    "# Brodcasting in Numpy"
   ]
  },
  {
   "cell_type": "code",
   "execution_count": 40,
   "id": "alike-newcastle",
   "metadata": {},
   "outputs": [],
   "source": [
    "a=np.array([1,2,3])"
   ]
  },
  {
   "cell_type": "code",
   "execution_count": 41,
   "id": "demanding-reservation",
   "metadata": {},
   "outputs": [
    {
     "data": {
      "text/plain": [
       "array([6, 7, 8])"
      ]
     },
     "execution_count": 41,
     "metadata": {},
     "output_type": "execute_result"
    }
   ],
   "source": [
    "a+5"
   ]
  },
  {
   "cell_type": "code",
   "execution_count": 42,
   "id": "engaged-auditor",
   "metadata": {},
   "outputs": [],
   "source": [
    "#playing with higher dimensional arrays\n"
   ]
  },
  {
   "cell_type": "code",
   "execution_count": 43,
   "id": "known-intranet",
   "metadata": {},
   "outputs": [],
   "source": [
    "m=np.ones((3,3))"
   ]
  },
  {
   "cell_type": "code",
   "execution_count": 44,
   "id": "reserved-exchange",
   "metadata": {},
   "outputs": [
    {
     "data": {
      "text/plain": [
       "array([[1., 1., 1.],\n",
       "       [1., 1., 1.],\n",
       "       [1., 1., 1.]])"
      ]
     },
     "execution_count": 44,
     "metadata": {},
     "output_type": "execute_result"
    }
   ],
   "source": [
    "m"
   ]
  },
  {
   "cell_type": "code",
   "execution_count": 45,
   "id": "linear-discount",
   "metadata": {},
   "outputs": [
    {
     "data": {
      "text/plain": [
       "array([1, 2, 3])"
      ]
     },
     "execution_count": 45,
     "metadata": {},
     "output_type": "execute_result"
    }
   ],
   "source": [
    "a"
   ]
  },
  {
   "cell_type": "code",
   "execution_count": 46,
   "id": "essential-humidity",
   "metadata": {},
   "outputs": [
    {
     "data": {
      "text/plain": [
       "array([[2., 3., 4.],\n",
       "       [2., 3., 4.],\n",
       "       [2., 3., 4.]])"
      ]
     },
     "execution_count": 46,
     "metadata": {},
     "output_type": "execute_result"
    }
   ],
   "source": [
    "m+a"
   ]
  },
  {
   "cell_type": "code",
   "execution_count": 47,
   "id": "comprehensive-label",
   "metadata": {},
   "outputs": [
    {
     "data": {
      "text/plain": [
       "array([[2., 3., 4.],\n",
       "       [2., 3., 4.],\n",
       "       [2., 3., 4.]])"
      ]
     },
     "execution_count": 47,
     "metadata": {},
     "output_type": "execute_result"
    }
   ],
   "source": [
    "a+m"
   ]
  },
  {
   "cell_type": "code",
   "execution_count": 48,
   "id": "blank-madrid",
   "metadata": {},
   "outputs": [],
   "source": [
    "a=np.arange(3)"
   ]
  },
  {
   "cell_type": "code",
   "execution_count": 49,
   "id": "wicked-canberra",
   "metadata": {},
   "outputs": [],
   "source": [
    "b=np.arange(3)[:,np.newaxis]"
   ]
  },
  {
   "cell_type": "code",
   "execution_count": 50,
   "id": "powerful-botswana",
   "metadata": {},
   "outputs": [
    {
     "data": {
      "text/plain": [
       "array([0, 1, 2])"
      ]
     },
     "execution_count": 50,
     "metadata": {},
     "output_type": "execute_result"
    }
   ],
   "source": [
    "a"
   ]
  },
  {
   "cell_type": "code",
   "execution_count": 51,
   "id": "intelligent-gazette",
   "metadata": {},
   "outputs": [
    {
     "data": {
      "text/plain": [
       "array([[0],\n",
       "       [1],\n",
       "       [2]])"
      ]
     },
     "execution_count": 51,
     "metadata": {},
     "output_type": "execute_result"
    }
   ],
   "source": [
    "b"
   ]
  },
  {
   "cell_type": "code",
   "execution_count": 52,
   "id": "earlier-bearing",
   "metadata": {},
   "outputs": [
    {
     "data": {
      "text/plain": [
       "array([[0, 1, 2],\n",
       "       [1, 2, 3],\n",
       "       [2, 3, 4]])"
      ]
     },
     "execution_count": 52,
     "metadata": {},
     "output_type": "execute_result"
    }
   ],
   "source": [
    "a+b"
   ]
  },
  {
   "cell_type": "markdown",
   "id": "extended-senegal",
   "metadata": {},
   "source": [
    "# Broadcasting in Practice"
   ]
  },
  {
   "cell_type": "markdown",
   "id": "level-maintenance",
   "metadata": {},
   "source": [
    "# Centering an array"
   ]
  },
  {
   "cell_type": "code",
   "execution_count": 53,
   "id": "dirty-annex",
   "metadata": {},
   "outputs": [],
   "source": [
    "m=np.random.random((10,3))"
   ]
  },
  {
   "cell_type": "code",
   "execution_count": 54,
   "id": "searching-lloyd",
   "metadata": {},
   "outputs": [
    {
     "data": {
      "text/plain": [
       "array([[0.26470723, 0.47381001, 0.46092586],\n",
       "       [0.45946186, 0.12309391, 0.01613457],\n",
       "       [0.14165757, 0.47152028, 0.25890753],\n",
       "       [0.42399655, 0.70956197, 0.88894324],\n",
       "       [0.80184856, 0.23984046, 0.97150184],\n",
       "       [0.42805309, 0.26770838, 0.04756673],\n",
       "       [0.20472625, 0.98291538, 0.33551142],\n",
       "       [0.74665544, 0.09104024, 0.89072195],\n",
       "       [0.02424307, 0.95816176, 0.22899776],\n",
       "       [0.90195973, 0.29035036, 0.33438037]])"
      ]
     },
     "execution_count": 54,
     "metadata": {},
     "output_type": "execute_result"
    }
   ],
   "source": [
    "m"
   ]
  },
  {
   "cell_type": "code",
   "execution_count": 55,
   "id": "documented-difference",
   "metadata": {},
   "outputs": [],
   "source": [
    "mmean=m.mean(0)"
   ]
  },
  {
   "cell_type": "code",
   "execution_count": 56,
   "id": "intimate-elevation",
   "metadata": {},
   "outputs": [
    {
     "data": {
      "text/plain": [
       "array([0.43973094, 0.46080028, 0.44335913])"
      ]
     },
     "execution_count": 56,
     "metadata": {},
     "output_type": "execute_result"
    }
   ],
   "source": [
    "mmean"
   ]
  },
  {
   "cell_type": "code",
   "execution_count": 57,
   "id": "round-liechtenstein",
   "metadata": {},
   "outputs": [],
   "source": [
    "mcenter=m-mmean"
   ]
  },
  {
   "cell_type": "code",
   "execution_count": 58,
   "id": "dramatic-jumping",
   "metadata": {},
   "outputs": [
    {
     "data": {
      "text/plain": [
       "array([[-0.17502371,  0.01300973,  0.01756673],\n",
       "       [ 0.01973093, -0.33770636, -0.42722456],\n",
       "       [-0.29807336,  0.01072001, -0.1844516 ],\n",
       "       [-0.01573439,  0.24876169,  0.44558411],\n",
       "       [ 0.36211762, -0.22095981,  0.52814272],\n",
       "       [-0.01167784, -0.19309189, -0.39579239],\n",
       "       [-0.23500469,  0.52211511, -0.10784771],\n",
       "       [ 0.3069245 , -0.36976004,  0.44736282],\n",
       "       [-0.41548787,  0.49736148, -0.21436137],\n",
       "       [ 0.4622288 , -0.17044992, -0.10897875]])"
      ]
     },
     "execution_count": 58,
     "metadata": {},
     "output_type": "execute_result"
    }
   ],
   "source": [
    "mcenter"
   ]
  },
  {
   "cell_type": "code",
   "execution_count": 60,
   "id": "thermal-north",
   "metadata": {},
   "outputs": [
    {
     "data": {
      "text/plain": [
       "array([-4.44089210e-17,  0.00000000e+00, -7.77156117e-17])"
      ]
     },
     "execution_count": 60,
     "metadata": {},
     "output_type": "execute_result"
    }
   ],
   "source": [
    "#To double-check that we’ve done this correctly, we can check that the centered array\n",
    "#has near zero mean\n",
    "mcenter.mean(0)"
   ]
  },
  {
   "cell_type": "markdown",
   "id": "authorized-macro",
   "metadata": {},
   "source": [
    "# Plotting a two-dimensional function"
   ]
  },
  {
   "cell_type": "code",
   "execution_count": 61,
   "id": "developing-helmet",
   "metadata": {},
   "outputs": [],
   "source": [
    "x=np.linspace(0,5,50)"
   ]
  },
  {
   "cell_type": "code",
   "execution_count": 62,
   "id": "convenient-telephone",
   "metadata": {},
   "outputs": [],
   "source": [
    "y=np.linspace(0,5,50)[:,np.newaxis]"
   ]
  },
  {
   "cell_type": "code",
   "execution_count": 63,
   "id": "executed-contract",
   "metadata": {},
   "outputs": [
    {
     "data": {
      "text/plain": [
       "array([0.        , 0.10204082, 0.20408163, 0.30612245, 0.40816327,\n",
       "       0.51020408, 0.6122449 , 0.71428571, 0.81632653, 0.91836735,\n",
       "       1.02040816, 1.12244898, 1.2244898 , 1.32653061, 1.42857143,\n",
       "       1.53061224, 1.63265306, 1.73469388, 1.83673469, 1.93877551,\n",
       "       2.04081633, 2.14285714, 2.24489796, 2.34693878, 2.44897959,\n",
       "       2.55102041, 2.65306122, 2.75510204, 2.85714286, 2.95918367,\n",
       "       3.06122449, 3.16326531, 3.26530612, 3.36734694, 3.46938776,\n",
       "       3.57142857, 3.67346939, 3.7755102 , 3.87755102, 3.97959184,\n",
       "       4.08163265, 4.18367347, 4.28571429, 4.3877551 , 4.48979592,\n",
       "       4.59183673, 4.69387755, 4.79591837, 4.89795918, 5.        ])"
      ]
     },
     "execution_count": 63,
     "metadata": {},
     "output_type": "execute_result"
    }
   ],
   "source": [
    "x"
   ]
  },
  {
   "cell_type": "code",
   "execution_count": 64,
   "id": "double-invention",
   "metadata": {},
   "outputs": [
    {
     "data": {
      "text/plain": [
       "array([[0.        ],\n",
       "       [0.10204082],\n",
       "       [0.20408163],\n",
       "       [0.30612245],\n",
       "       [0.40816327],\n",
       "       [0.51020408],\n",
       "       [0.6122449 ],\n",
       "       [0.71428571],\n",
       "       [0.81632653],\n",
       "       [0.91836735],\n",
       "       [1.02040816],\n",
       "       [1.12244898],\n",
       "       [1.2244898 ],\n",
       "       [1.32653061],\n",
       "       [1.42857143],\n",
       "       [1.53061224],\n",
       "       [1.63265306],\n",
       "       [1.73469388],\n",
       "       [1.83673469],\n",
       "       [1.93877551],\n",
       "       [2.04081633],\n",
       "       [2.14285714],\n",
       "       [2.24489796],\n",
       "       [2.34693878],\n",
       "       [2.44897959],\n",
       "       [2.55102041],\n",
       "       [2.65306122],\n",
       "       [2.75510204],\n",
       "       [2.85714286],\n",
       "       [2.95918367],\n",
       "       [3.06122449],\n",
       "       [3.16326531],\n",
       "       [3.26530612],\n",
       "       [3.36734694],\n",
       "       [3.46938776],\n",
       "       [3.57142857],\n",
       "       [3.67346939],\n",
       "       [3.7755102 ],\n",
       "       [3.87755102],\n",
       "       [3.97959184],\n",
       "       [4.08163265],\n",
       "       [4.18367347],\n",
       "       [4.28571429],\n",
       "       [4.3877551 ],\n",
       "       [4.48979592],\n",
       "       [4.59183673],\n",
       "       [4.69387755],\n",
       "       [4.79591837],\n",
       "       [4.89795918],\n",
       "       [5.        ]])"
      ]
     },
     "execution_count": 64,
     "metadata": {},
     "output_type": "execute_result"
    }
   ],
   "source": [
    "y"
   ]
  },
  {
   "cell_type": "code",
   "execution_count": 67,
   "id": "legislative-beauty",
   "metadata": {},
   "outputs": [],
   "source": [
    "z=np.sin(x)*10 + np.cos(10 + y*x)*np.cos(x)"
   ]
  },
  {
   "cell_type": "code",
   "execution_count": 68,
   "id": "subsequent-philadelphia",
   "metadata": {},
   "outputs": [
    {
     "data": {
      "text/plain": [
       "array([[ -0.83907153,   0.18393131,   1.20502065, ..., -10.03514014,\n",
       "         -9.98312659,  -9.82725561],\n",
       "       [ -0.83907153,   0.18961151,   1.21629195, ..., -10.00558687,\n",
       "         -9.91608572,  -9.72158132],\n",
       "       [ -0.83907153,   0.1953816 ,   1.22791468, ...,  -9.96653737,\n",
       "         -9.82757231,  -9.58219904],\n",
       "       ...,\n",
       "       [ -0.83907153,   0.53630751,   2.01021367, ...,  -9.96631169,\n",
       "         -9.91733388,  -9.82683726],\n",
       "       [ -0.83907153,   0.5453927 ,   2.03060537, ..., -10.00538931,\n",
       "         -9.98389558,  -9.87225468],\n",
       "       [ -0.83907153,   0.5545292 ,   2.05099538, ..., -10.0350171 ,\n",
       "        -10.01239606,  -9.84558605]])"
      ]
     },
     "execution_count": 68,
     "metadata": {},
     "output_type": "execute_result"
    }
   ],
   "source": [
    "z"
   ]
  },
  {
   "cell_type": "code",
   "execution_count": 69,
   "id": "infectious-election",
   "metadata": {},
   "outputs": [],
   "source": [
    "#We’ll use Matplotlib to plot this two-dimensional array"
   ]
  },
  {
   "cell_type": "code",
   "execution_count": 71,
   "id": "prime-employment",
   "metadata": {},
   "outputs": [],
   "source": [
    "import matplotlib.pyplot as plt"
   ]
  },
  {
   "cell_type": "code",
   "execution_count": 78,
   "id": "enormous-palestinian",
   "metadata": {},
   "outputs": [
    {
     "data": {
      "image/png": "[encoded data removed]",
      "text/plain": [
       "<Figure size 432x288 with 2 Axes>"
      ]
     },
     "metadata": {
      "needs_background": "light"
     },
     "output_type": "display_data"
    }
   ],
   "source": [
    "plt.imshow(z,origin=\"lower\",cmap=\"viridis\")\n",
    "plt.colorbar()\n",
    "plt.show()"
   ]
  },
  {
   "cell_type": "markdown",
   "id": "labeled-fisher",
   "metadata": {},
   "source": [
    "# Thank You"
   ]
  }
 ],
 "metadata": {
  "kernelspec": {
   "display_name": "Python 3",
   "language": "python",
   "name": "python3"
  },
  "language_info": {
   "codemirror_mode": {
    "name": "ipython",
    "version": 3
   },
   "file_extension": ".py",
   "mimetype": "text/x-python",
   "name": "python",
   "nbconvert_exporter": "python",
   "pygments_lexer": "ipython3",
   "version": "3.8.5"
  }
 },
 "nbformat": 4,
 "nbformat_minor": 5
}
